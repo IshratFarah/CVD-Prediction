{
 "cells": [
  {
   "cell_type": "code",
   "execution_count": 267,
   "metadata": {},
   "outputs": [],
   "source": [
    "import numpy as np\n",
    "import pandas as pd\n",
    "import matplotlib.pyplot as plt \n",
    "import seaborn as sns\n",
    "from sklearn.model_selection import train_test_split\n",
    "from sklearn.impute import SimpleImputer\n",
    "from sklearn import svm\n",
    "from sklearn.metrics import f1_score\n",
    "from sklearn.model_selection import cross_val_score\n",
    "from sklearn.model_selection import RepeatedStratifiedKFold\n",
    "from sklearn.preprocessing import StandardScaler\n",
    "from sklearn.metrics import confusion_matrix\n",
    "import seaborn as sns\n",
    "from matplotlib.colors import ListedColormap\n",
    "from sklearn.linear_model import LogisticRegression\n",
    "from sklearn.datasets import make_classification\n",
    "import warnings\n",
    "warnings.filterwarnings('ignore')\n",
    "from sklearn.metrics import accuracy_score\n",
    "from sklearn.metrics import make_scorer\n",
    "from sklearn.model_selection import GridSearchCV\n",
    "from sklearn.metrics import classification_report\n",
    "from sklearn.pipeline import Pipeline\n",
    "from sklearn.discriminant_analysis import LinearDiscriminantAnalysis as LDA\n",
    "from sklearn.feature_selection import RFE\n",
    "from sklearn.svm import LinearSVC\n",
    "from sklearn import random_projection"
   ]
  },
  {
   "cell_type": "code",
   "execution_count": 2,
   "metadata": {},
   "outputs": [
    {
     "data": {
      "text/plain": [
       "(303, 14)"
      ]
     },
     "execution_count": 2,
     "metadata": {},
     "output_type": "execute_result"
    }
   ],
   "source": [
    "df = pd.read_csv('/media/raian/Projects/Datasets/UCI-HeartDisease/processed.cleveland_test.csv', header=None)\n",
    "df.columns = ['age','sex','cp','trestbps','chol','fbs','restecg','thalach','exang','oldpeak','slope','ca','thal','target']\n",
    "df.shape"
   ]
  },
  {
   "cell_type": "code",
   "execution_count": 3,
   "metadata": {},
   "outputs": [
    {
     "data": {
      "text/plain": [
       "139"
      ]
     },
     "execution_count": 3,
     "metadata": {},
     "output_type": "execute_result"
    }
   ],
   "source": [
    "# converting to binary class\n",
    "# replace class 1,2,3,4 by 1\n",
    "\n",
    "df['target'] = df['target'].mask(df['target']>0, 1)\n",
    "\n",
    "# count of tuples in class 1 after replacement\n",
    "\n",
    "df['target'][df['target'] == 1].value_counts().sum()"
   ]
  },
  {
   "cell_type": "code",
   "execution_count": 4,
   "metadata": {},
   "outputs": [
    {
     "data": {
      "text/plain": [
       "age         0\n",
       "sex         0\n",
       "cp          0\n",
       "trestbps    0\n",
       "chol        0\n",
       "fbs         0\n",
       "restecg     0\n",
       "thalach     0\n",
       "exang       0\n",
       "oldpeak     0\n",
       "slope       0\n",
       "ca          4\n",
       "thal        2\n",
       "target      0\n",
       "dtype: int64"
      ]
     },
     "execution_count": 4,
     "metadata": {},
     "output_type": "execute_result"
    }
   ],
   "source": [
    "# Replace '?' by np.nan\n",
    "\n",
    "df = df.replace('?',np.nan)\n",
    "\n",
    "# Find missing values np.nan\n",
    "\n",
    "df.isna().sum()"
   ]
  },
  {
   "cell_type": "code",
   "execution_count": 5,
   "metadata": {},
   "outputs": [
    {
     "data": {
      "text/plain": [
       "age         0\n",
       "sex         0\n",
       "cp          0\n",
       "trestbps    0\n",
       "chol        0\n",
       "fbs         0\n",
       "restecg     0\n",
       "thalach     0\n",
       "exang       0\n",
       "oldpeak     0\n",
       "slope       0\n",
       "ca          0\n",
       "thal        0\n",
       "target      0\n",
       "dtype: int64"
      ]
     },
     "execution_count": 5,
     "metadata": {},
     "output_type": "execute_result"
    }
   ],
   "source": [
    "# Impute np.nan with Most Frequent values\n",
    "\n",
    "df_imp = df.copy(deep=True)\n",
    "df_imp\n",
    "imp = SimpleImputer(strategy='most_frequent')\n",
    "df_imp = pd.DataFrame(imp.fit_transform(df_imp),columns=df_imp.columns)\n",
    "df_imp\n",
    "df_imp.isna().sum()"
   ]
  },
  {
   "cell_type": "code",
   "execution_count": 6,
   "metadata": {},
   "outputs": [
    {
     "data": {
      "text/plain": [
       "age         float64\n",
       "sex         float64\n",
       "cp          float64\n",
       "trestbps    float64\n",
       "chol        float64\n",
       "fbs         float64\n",
       "restecg     float64\n",
       "thalach     float64\n",
       "exang       float64\n",
       "oldpeak     float64\n",
       "slope       float64\n",
       "ca          float64\n",
       "thal        float64\n",
       "target        int64\n",
       "dtype: object"
      ]
     },
     "execution_count": 6,
     "metadata": {},
     "output_type": "execute_result"
    }
   ],
   "source": [
    "df.ca = df.ca.astype('float64')\n",
    "df.thal = df.thal.astype('float64')\n",
    "df.dtypes"
   ]
  },
  {
   "cell_type": "code",
   "execution_count": 7,
   "metadata": {},
   "outputs": [
    {
     "data": {
      "text/plain": [
       "age         float64\n",
       "sex         float64\n",
       "cp          float64\n",
       "trestbps    float64\n",
       "chol        float64\n",
       "fbs         float64\n",
       "restecg     float64\n",
       "thalach     float64\n",
       "exang       float64\n",
       "oldpeak     float64\n",
       "slope       float64\n",
       "ca          float64\n",
       "thal        float64\n",
       "target      float64\n",
       "dtype: object"
      ]
     },
     "execution_count": 7,
     "metadata": {},
     "output_type": "execute_result"
    }
   ],
   "source": [
    "df_imp = df_imp.astype('float64')\n",
    "df_imp.dtypes"
   ]
  },
  {
   "cell_type": "code",
   "execution_count": 8,
   "metadata": {},
   "outputs": [],
   "source": [
    "X = df_imp.drop(['target'],axis=1)\n",
    "\n",
    "y = df['target']"
   ]
  },
  {
   "cell_type": "code",
   "execution_count": 9,
   "metadata": {},
   "outputs": [],
   "source": [
    "sc = StandardScaler()\n",
    "X_norm = pd.DataFrame(sc.fit_transform(X), columns = X.columns)"
   ]
  },
  {
   "cell_type": "markdown",
   "metadata": {},
   "source": [
    "# Apply a Classification Algorithm"
   ]
  },
  {
   "cell_type": "code",
   "execution_count": 10,
   "metadata": {},
   "outputs": [],
   "source": [
    "# define the model\n",
    "\n",
    "def classification(X_data, cls_name, scoring_method):\n",
    "    model = cls_name\n",
    "    \n",
    "# evaluate model\n",
    "\n",
    "    cv = RepeatedStratifiedKFold(n_splits=10, n_repeats=3, random_state=1)\n",
    "    n_scores = cross_val_score(model, X_data, y, scoring=scoring_method, cv=cv)\n",
    "#     print(n_scores)\n",
    "#     print(n_scores.shape)\n",
    "# report performance\n",
    "#     print('Accuracy: mean = %f ' % (n_scores.mean()))\n",
    "    return n_scores.mean()"
   ]
  },
  {
   "cell_type": "code",
   "execution_count": 176,
   "metadata": {},
   "outputs": [],
   "source": [
    "scoring = ['accuracy','precision','recall','f1','roc_auc']"
   ]
  },
  {
   "cell_type": "code",
   "execution_count": 191,
   "metadata": {},
   "outputs": [],
   "source": [
    "# params = { 'C':[0.01,0.1,1,10,50,100], 'n':[3,4,5,6,7,8,9,10] }\n",
    "N_FEATURES_OPTIONS = [3,4,5,6,7,8,9,10]\n",
    "C_OPTIONS = [0.01,0.1,1,10,50,100]"
   ]
  },
  {
   "cell_type": "code",
   "execution_count": 186,
   "metadata": {},
   "outputs": [],
   "source": [
    "# pipe = Pipeline([\n",
    "#     # the reduce_dim stage is populated by the param_grid\n",
    "#     ('reduce_dim', 'passthrough'),\n",
    "#     ('classify', LogisticRegression())\n",
    "# ])"
   ]
  },
  {
   "cell_type": "code",
   "execution_count": 195,
   "metadata": {},
   "outputs": [],
   "source": [
    "# param_grid = [\n",
    "#     {\n",
    "#         'reduce_dim': [RFE(estimator = LogisticRegression())],\n",
    "#         'reduce_dim__n_features_to_select': N_FEATURES_OPTIONS,\n",
    "#         'classify__C': C_OPTIONS\n",
    "#     },\n",
    "#     {\n",
    "#         'reduce_dim': [LDA(solver='eigen', shrinkage='auto')],\n",
    "#         'reduce_dim__n_components': N_FEATURES_OPTIONS,\n",
    "#         'classify__C': C_OPTIONS\n",
    "#     },\n",
    "# ]"
   ]
  },
  {
   "cell_type": "code",
   "execution_count": 181,
   "metadata": {},
   "outputs": [],
   "source": [
    "# lr = LogisticRegression()"
   ]
  },
  {
   "cell_type": "code",
   "execution_count": 203,
   "metadata": {},
   "outputs": [],
   "source": [
    "# gridcv = GridSearchCV(pipe, n_jobs=1, param_grid=param_grid,scoring=scoring,refit=False)\n",
    "# grid = gridcv.fit(X, y)"
   ]
  },
  {
   "cell_type": "code",
   "execution_count": 204,
   "metadata": {},
   "outputs": [],
   "source": [
    "# X_t = grid.transform(X) #problem"
   ]
  },
  {
   "cell_type": "markdown",
   "metadata": {},
   "source": [
    "### L1 on Actual Data"
   ]
  },
  {
   "cell_type": "code",
   "execution_count": 243,
   "metadata": {},
   "outputs": [
    {
     "data": {
      "text/plain": [
       "(303, 7)"
      ]
     },
     "execution_count": 243,
     "metadata": {},
     "output_type": "execute_result"
    }
   ],
   "source": [
    "lsvc = LinearSVC(C=0.01, penalty=\"l1\", dual=False).fit(X, y)\n",
    "model = SelectFromModel(lsvc, prefit=True)\n",
    "X_new = model.transform(X)\n",
    "X_new.shape"
   ]
  },
  {
   "cell_type": "code",
   "execution_count": 249,
   "metadata": {},
   "outputs": [
    {
     "data": {
      "text/html": [
       "<div>\n",
       "<style scoped>\n",
       "    .dataframe tbody tr th:only-of-type {\n",
       "        vertical-align: middle;\n",
       "    }\n",
       "\n",
       "    .dataframe tbody tr th {\n",
       "        vertical-align: top;\n",
       "    }\n",
       "\n",
       "    .dataframe thead th {\n",
       "        text-align: right;\n",
       "    }\n",
       "</style>\n",
       "<table border=\"1\" class=\"dataframe\">\n",
       "  <thead>\n",
       "    <tr style=\"text-align: right;\">\n",
       "      <th></th>\n",
       "      <th>Classification_Method</th>\n",
       "      <th>#Features</th>\n",
       "      <th>accuracy</th>\n",
       "      <th>precision</th>\n",
       "      <th>recall</th>\n",
       "      <th>f1</th>\n",
       "      <th>roc_auc</th>\n",
       "    </tr>\n",
       "  </thead>\n",
       "  <tbody>\n",
       "    <tr>\n",
       "      <th>0</th>\n",
       "      <td>LR</td>\n",
       "      <td>7</td>\n",
       "      <td>NaN</td>\n",
       "      <td>NaN</td>\n",
       "      <td>NaN</td>\n",
       "      <td>NaN</td>\n",
       "      <td>NaN</td>\n",
       "    </tr>\n",
       "  </tbody>\n",
       "</table>\n",
       "</div>"
      ],
      "text/plain": [
       "  Classification_Method  #Features accuracy precision recall   f1 roc_auc\n",
       "0                    LR          7      NaN       NaN    NaN  NaN     NaN"
      ]
     },
     "execution_count": 249,
     "metadata": {},
     "output_type": "execute_result"
    }
   ],
   "source": [
    "Scores_L1 = pd.DataFrame(columns = ['Classification_Method','#Features', 'accuracy','precision','recall','f1','roc_auc'])\n",
    "Scores_L1['#Features'] = [7]\n",
    "Scores_L1['Classification_Method'] = 'LR'\n",
    "Scores_L1"
   ]
  },
  {
   "cell_type": "code",
   "execution_count": 250,
   "metadata": {},
   "outputs": [
    {
     "data": {
      "text/html": [
       "<div>\n",
       "<style scoped>\n",
       "    .dataframe tbody tr th:only-of-type {\n",
       "        vertical-align: middle;\n",
       "    }\n",
       "\n",
       "    .dataframe tbody tr th {\n",
       "        vertical-align: top;\n",
       "    }\n",
       "\n",
       "    .dataframe thead th {\n",
       "        text-align: right;\n",
       "    }\n",
       "</style>\n",
       "<table border=\"1\" class=\"dataframe\">\n",
       "  <thead>\n",
       "    <tr style=\"text-align: right;\">\n",
       "      <th></th>\n",
       "      <th>Classification_Method</th>\n",
       "      <th>#Features</th>\n",
       "      <th>accuracy</th>\n",
       "      <th>precision</th>\n",
       "      <th>recall</th>\n",
       "      <th>f1</th>\n",
       "      <th>roc_auc</th>\n",
       "    </tr>\n",
       "  </thead>\n",
       "  <tbody>\n",
       "    <tr>\n",
       "      <th>0</th>\n",
       "      <td>LR</td>\n",
       "      <td>7</td>\n",
       "      <td>0.830645</td>\n",
       "      <td>0.841255</td>\n",
       "      <td>0.781502</td>\n",
       "      <td>0.807613</td>\n",
       "      <td>0.88624</td>\n",
       "    </tr>\n",
       "  </tbody>\n",
       "</table>\n",
       "</div>"
      ],
      "text/plain": [
       "  Classification_Method  #Features  accuracy  precision    recall        f1  \\\n",
       "0                    LR          7  0.830645   0.841255  0.781502  0.807613   \n",
       "\n",
       "   roc_auc  \n",
       "0  0.88624  "
      ]
     },
     "execution_count": 250,
     "metadata": {},
     "output_type": "execute_result"
    }
   ],
   "source": [
    "Scores_L1['accuracy'] = classification(X_data=X_new, cls_name=LogisticRegression(), scoring_method='accuracy')\n",
    "Scores_L1['precision'] = classification(X_data=X_new, cls_name=LogisticRegression(), scoring_method='precision')\n",
    "Scores_L1['recall'] = classification(X_data=X_new, cls_name=LogisticRegression(), scoring_method='recall')\n",
    "Scores_L1['f1'] = classification(X_data=X_new, cls_name=LogisticRegression(), scoring_method='f1')\n",
    "Scores_L1['roc_auc'] = classification(X_data=X_new, cls_name=LogisticRegression(), scoring_method='roc_auc')\n",
    "\n",
    "Scores_L1"
   ]
  },
  {
   "cell_type": "markdown",
   "metadata": {},
   "source": [
    "### L1 on Normalized Data"
   ]
  },
  {
   "cell_type": "code",
   "execution_count": 254,
   "metadata": {},
   "outputs": [
    {
     "data": {
      "text/plain": [
       "(303, 6)"
      ]
     },
     "execution_count": 254,
     "metadata": {},
     "output_type": "execute_result"
    }
   ],
   "source": [
    "lsvc1 = LinearSVC(C=0.01, penalty=\"l1\", dual=False).fit(X_norm, y)\n",
    "model1 = SelectFromModel(lsvc1, prefit=True)\n",
    "X_new1 = model1.transform(X_norm)\n",
    "X_new1.shape"
   ]
  },
  {
   "cell_type": "code",
   "execution_count": 265,
   "metadata": {},
   "outputs": [
    {
     "data": {
      "text/html": [
       "<div>\n",
       "<style scoped>\n",
       "    .dataframe tbody tr th:only-of-type {\n",
       "        vertical-align: middle;\n",
       "    }\n",
       "\n",
       "    .dataframe tbody tr th {\n",
       "        vertical-align: top;\n",
       "    }\n",
       "\n",
       "    .dataframe thead th {\n",
       "        text-align: right;\n",
       "    }\n",
       "</style>\n",
       "<table border=\"1\" class=\"dataframe\">\n",
       "  <thead>\n",
       "    <tr style=\"text-align: right;\">\n",
       "      <th></th>\n",
       "      <th>Classification_Method</th>\n",
       "      <th>#Features</th>\n",
       "      <th>accuracy</th>\n",
       "      <th>precision</th>\n",
       "      <th>recall</th>\n",
       "      <th>f1</th>\n",
       "      <th>roc_auc</th>\n",
       "    </tr>\n",
       "  </thead>\n",
       "  <tbody>\n",
       "    <tr>\n",
       "      <th>0</th>\n",
       "      <td>LR (C=0.1)</td>\n",
       "      <td>6</td>\n",
       "      <td>NaN</td>\n",
       "      <td>NaN</td>\n",
       "      <td>NaN</td>\n",
       "      <td>NaN</td>\n",
       "      <td>NaN</td>\n",
       "    </tr>\n",
       "  </tbody>\n",
       "</table>\n",
       "</div>"
      ],
      "text/plain": [
       "  Classification_Method  #Features accuracy precision recall   f1 roc_auc\n",
       "0            LR (C=0.1)          6      NaN       NaN    NaN  NaN     NaN"
      ]
     },
     "execution_count": 265,
     "metadata": {},
     "output_type": "execute_result"
    }
   ],
   "source": [
    "Scores_L1_norm = pd.DataFrame(columns = ['Classification_Method','#Features', 'accuracy','precision','recall','f1','roc_auc'])\n",
    "Scores_L1_norm['#Features'] = [6]\n",
    "Scores_L1_norm['Classification_Method'] = 'LR (C=0.1)'\n",
    "Scores_L1_norm"
   ]
  },
  {
   "cell_type": "code",
   "execution_count": 266,
   "metadata": {},
   "outputs": [
    {
     "data": {
      "text/html": [
       "<div>\n",
       "<style scoped>\n",
       "    .dataframe tbody tr th:only-of-type {\n",
       "        vertical-align: middle;\n",
       "    }\n",
       "\n",
       "    .dataframe tbody tr th {\n",
       "        vertical-align: top;\n",
       "    }\n",
       "\n",
       "    .dataframe thead th {\n",
       "        text-align: right;\n",
       "    }\n",
       "</style>\n",
       "<table border=\"1\" class=\"dataframe\">\n",
       "  <thead>\n",
       "    <tr style=\"text-align: right;\">\n",
       "      <th></th>\n",
       "      <th>Classification_Method</th>\n",
       "      <th>#Features</th>\n",
       "      <th>accuracy</th>\n",
       "      <th>precision</th>\n",
       "      <th>recall</th>\n",
       "      <th>f1</th>\n",
       "      <th>roc_auc</th>\n",
       "    </tr>\n",
       "  </thead>\n",
       "  <tbody>\n",
       "    <tr>\n",
       "      <th>0</th>\n",
       "      <td>LR (C=0.1)</td>\n",
       "      <td>6</td>\n",
       "      <td>0.844014</td>\n",
       "      <td>0.875335</td>\n",
       "      <td>0.776923</td>\n",
       "      <td>0.819101</td>\n",
       "      <td>0.89675</td>\n",
       "    </tr>\n",
       "  </tbody>\n",
       "</table>\n",
       "</div>"
      ],
      "text/plain": [
       "  Classification_Method  #Features  accuracy  precision    recall        f1  \\\n",
       "0            LR (C=0.1)          6  0.844014   0.875335  0.776923  0.819101   \n",
       "\n",
       "   roc_auc  \n",
       "0  0.89675  "
      ]
     },
     "execution_count": 266,
     "metadata": {},
     "output_type": "execute_result"
    }
   ],
   "source": [
    "Scores_L1_norm['accuracy'] = classification(X_data=X_new1, cls_name=LogisticRegression(C=0.1), scoring_method='accuracy')\n",
    "Scores_L1_norm['precision'] = classification(X_data=X_new1, cls_name=LogisticRegression(C=0.1), scoring_method='precision')\n",
    "Scores_L1_norm['recall'] = classification(X_data=X_new1, cls_name=LogisticRegression(C=0.1), scoring_method='recall')\n",
    "Scores_L1_norm['f1'] = classification(X_data=X_new1, cls_name=LogisticRegression(C=0.1), scoring_method='f1')\n",
    "Scores_L1_norm['roc_auc'] = classification(X_data=X_new1, cls_name=LogisticRegression(C=0.1), scoring_method='roc_auc')\n",
    "\n",
    "Scores_L1_norm"
   ]
  },
  {
   "cell_type": "markdown",
   "metadata": {},
   "source": [
    "# Feature Subset with Gaussian random projection"
   ]
  },
  {
   "cell_type": "markdown",
   "metadata": {},
   "source": [
    "### Actual Dataset"
   ]
  },
  {
   "cell_type": "code",
   "execution_count": 283,
   "metadata": {},
   "outputs": [
    {
     "data": {
      "text/plain": [
       "(303, 9)"
      ]
     },
     "execution_count": 283,
     "metadata": {},
     "output_type": "execute_result"
    }
   ],
   "source": [
    "transformer = random_projection.GaussianRandomProjection(n_components=9,random_state=1)\n",
    "X_G = transformer.fit_transform(X)\n",
    "X_G.shape"
   ]
  },
  {
   "cell_type": "code",
   "execution_count": 292,
   "metadata": {},
   "outputs": [
    {
     "data": {
      "text/html": [
       "<div>\n",
       "<style scoped>\n",
       "    .dataframe tbody tr th:only-of-type {\n",
       "        vertical-align: middle;\n",
       "    }\n",
       "\n",
       "    .dataframe tbody tr th {\n",
       "        vertical-align: top;\n",
       "    }\n",
       "\n",
       "    .dataframe thead th {\n",
       "        text-align: right;\n",
       "    }\n",
       "</style>\n",
       "<table border=\"1\" class=\"dataframe\">\n",
       "  <thead>\n",
       "    <tr style=\"text-align: right;\">\n",
       "      <th></th>\n",
       "      <th>Classification_Method</th>\n",
       "      <th>#Features</th>\n",
       "      <th>accuracy</th>\n",
       "      <th>precision</th>\n",
       "      <th>recall</th>\n",
       "      <th>f1</th>\n",
       "      <th>roc_auc</th>\n",
       "    </tr>\n",
       "  </thead>\n",
       "  <tbody>\n",
       "    <tr>\n",
       "      <th>0</th>\n",
       "      <td>LR (C=10)</td>\n",
       "      <td>9</td>\n",
       "      <td>NaN</td>\n",
       "      <td>NaN</td>\n",
       "      <td>NaN</td>\n",
       "      <td>NaN</td>\n",
       "      <td>NaN</td>\n",
       "    </tr>\n",
       "  </tbody>\n",
       "</table>\n",
       "</div>"
      ],
      "text/plain": [
       "  Classification_Method  #Features accuracy precision recall   f1 roc_auc\n",
       "0             LR (C=10)          9      NaN       NaN    NaN  NaN     NaN"
      ]
     },
     "execution_count": 292,
     "metadata": {},
     "output_type": "execute_result"
    }
   ],
   "source": [
    "Scores_G = pd.DataFrame(columns = ['Classification_Method','#Features', 'accuracy','precision','recall','f1','roc_auc'])\n",
    "Scores_G['#Features'] = [9]\n",
    "Scores_G['Classification_Method'] = 'LR (C=10)'\n",
    "Scores_G"
   ]
  },
  {
   "cell_type": "code",
   "execution_count": 293,
   "metadata": {},
   "outputs": [
    {
     "data": {
      "text/html": [
       "<div>\n",
       "<style scoped>\n",
       "    .dataframe tbody tr th:only-of-type {\n",
       "        vertical-align: middle;\n",
       "    }\n",
       "\n",
       "    .dataframe tbody tr th {\n",
       "        vertical-align: top;\n",
       "    }\n",
       "\n",
       "    .dataframe thead th {\n",
       "        text-align: right;\n",
       "    }\n",
       "</style>\n",
       "<table border=\"1\" class=\"dataframe\">\n",
       "  <thead>\n",
       "    <tr style=\"text-align: right;\">\n",
       "      <th></th>\n",
       "      <th>Classification_Method</th>\n",
       "      <th>#Features</th>\n",
       "      <th>accuracy</th>\n",
       "      <th>precision</th>\n",
       "      <th>recall</th>\n",
       "      <th>f1</th>\n",
       "      <th>roc_auc</th>\n",
       "    </tr>\n",
       "  </thead>\n",
       "  <tbody>\n",
       "    <tr>\n",
       "      <th>0</th>\n",
       "      <td>LR (C=10)</td>\n",
       "      <td>9</td>\n",
       "      <td>0.810824</td>\n",
       "      <td>0.800329</td>\n",
       "      <td>0.788645</td>\n",
       "      <td>0.791035</td>\n",
       "      <td>0.882212</td>\n",
       "    </tr>\n",
       "  </tbody>\n",
       "</table>\n",
       "</div>"
      ],
      "text/plain": [
       "  Classification_Method  #Features  accuracy  precision    recall        f1  \\\n",
       "0             LR (C=10)          9  0.810824   0.800329  0.788645  0.791035   \n",
       "\n",
       "    roc_auc  \n",
       "0  0.882212  "
      ]
     },
     "execution_count": 293,
     "metadata": {},
     "output_type": "execute_result"
    }
   ],
   "source": [
    "Scores_G['accuracy'] = classification(X_data=X_G, cls_name=LogisticRegression(C=10), scoring_method='accuracy')\n",
    "Scores_G['precision'] = classification(X_data=X_G, cls_name=LogisticRegression(C=10), scoring_method='precision')\n",
    "Scores_G['recall'] = classification(X_data=X_G, cls_name=LogisticRegression(C=10), scoring_method='recall')\n",
    "Scores_G['f1'] = classification(X_data=X_G, cls_name=LogisticRegression(C=10), scoring_method='f1')\n",
    "Scores_G['roc_auc'] = classification(X_data=X_G, cls_name=LogisticRegression(C=10), scoring_method='roc_auc')\n",
    "\n",
    "Scores_G"
   ]
  },
  {
   "cell_type": "markdown",
   "metadata": {},
   "source": [
    "### Normalized Dataset (doesn't perform well on normalized data)"
   ]
  },
  {
   "cell_type": "code",
   "execution_count": 430,
   "metadata": {},
   "outputs": [
    {
     "data": {
      "text/plain": [
       "(303, 9)"
      ]
     },
     "execution_count": 430,
     "metadata": {},
     "output_type": "execute_result"
    }
   ],
   "source": [
    "transformer1 = random_projection.GaussianRandomProjection(n_components=9,random_state=1)\n",
    "X_G_norm = transformer1.fit_transform(X_norm)\n",
    "X_G_norm.shape"
   ]
  },
  {
   "cell_type": "code",
   "execution_count": 431,
   "metadata": {},
   "outputs": [
    {
     "data": {
      "text/plain": [
       "0.7813978494623656"
      ]
     },
     "execution_count": 431,
     "metadata": {},
     "output_type": "execute_result"
    }
   ],
   "source": [
    "classification(X_data=X_G_norm, cls_name=LogisticRegression(C=10), scoring_method='accuracy')"
   ]
  },
  {
   "cell_type": "markdown",
   "metadata": {},
   "source": [
    "# Sparse random projection"
   ]
  },
  {
   "cell_type": "markdown",
   "metadata": {},
   "source": [
    "## n=5, LR(C=1)"
   ]
  },
  {
   "cell_type": "code",
   "execution_count": 432,
   "metadata": {},
   "outputs": [
    {
     "data": {
      "text/plain": [
       "(303, 5)"
      ]
     },
     "execution_count": 432,
     "metadata": {},
     "output_type": "execute_result"
    }
   ],
   "source": [
    "SRP1 = random_projection.SparseRandomProjection(n_components=5,random_state=1)\n",
    "X_SRP1 = SRP1.fit_transform(X_norm)\n",
    "X_SRP1.shape\n",
    "# n=9, C=0.01\n",
    "# n=8, C=0.1\n",
    "#n=5, C=1"
   ]
  },
  {
   "cell_type": "code",
   "execution_count": 434,
   "metadata": {},
   "outputs": [
    {
     "data": {
      "text/html": [
       "<div>\n",
       "<style scoped>\n",
       "    .dataframe tbody tr th:only-of-type {\n",
       "        vertical-align: middle;\n",
       "    }\n",
       "\n",
       "    .dataframe tbody tr th {\n",
       "        vertical-align: top;\n",
       "    }\n",
       "\n",
       "    .dataframe thead th {\n",
       "        text-align: right;\n",
       "    }\n",
       "</style>\n",
       "<table border=\"1\" class=\"dataframe\">\n",
       "  <thead>\n",
       "    <tr style=\"text-align: right;\">\n",
       "      <th></th>\n",
       "      <th>Classification_Method</th>\n",
       "      <th>#Features</th>\n",
       "      <th>accuracy</th>\n",
       "      <th>precision</th>\n",
       "      <th>recall</th>\n",
       "      <th>f1</th>\n",
       "      <th>roc_auc</th>\n",
       "    </tr>\n",
       "  </thead>\n",
       "  <tbody>\n",
       "    <tr>\n",
       "      <th>0</th>\n",
       "      <td>LR</td>\n",
       "      <td>5</td>\n",
       "      <td>NaN</td>\n",
       "      <td>NaN</td>\n",
       "      <td>NaN</td>\n",
       "      <td>NaN</td>\n",
       "      <td>NaN</td>\n",
       "    </tr>\n",
       "  </tbody>\n",
       "</table>\n",
       "</div>"
      ],
      "text/plain": [
       "  Classification_Method  #Features accuracy precision recall   f1 roc_auc\n",
       "0                    LR          5      NaN       NaN    NaN  NaN     NaN"
      ]
     },
     "execution_count": 434,
     "metadata": {},
     "output_type": "execute_result"
    }
   ],
   "source": [
    "Scores_SRP1 = pd.DataFrame(columns = ['Classification_Method','#Features', 'accuracy','precision','recall','f1','roc_auc'])\n",
    "Scores_SRP1['#Features'] = [5]\n",
    "Scores_SRP1['Classification_Method'] = 'LR'\n",
    "Scores_SRP1"
   ]
  },
  {
   "cell_type": "code",
   "execution_count": 435,
   "metadata": {},
   "outputs": [
    {
     "data": {
      "text/html": [
       "<div>\n",
       "<style scoped>\n",
       "    .dataframe tbody tr th:only-of-type {\n",
       "        vertical-align: middle;\n",
       "    }\n",
       "\n",
       "    .dataframe tbody tr th {\n",
       "        vertical-align: top;\n",
       "    }\n",
       "\n",
       "    .dataframe thead th {\n",
       "        text-align: right;\n",
       "    }\n",
       "</style>\n",
       "<table border=\"1\" class=\"dataframe\">\n",
       "  <thead>\n",
       "    <tr style=\"text-align: right;\">\n",
       "      <th></th>\n",
       "      <th>Classification_Method</th>\n",
       "      <th>#Features</th>\n",
       "      <th>accuracy</th>\n",
       "      <th>precision</th>\n",
       "      <th>recall</th>\n",
       "      <th>f1</th>\n",
       "      <th>roc_auc</th>\n",
       "    </tr>\n",
       "  </thead>\n",
       "  <tbody>\n",
       "    <tr>\n",
       "      <th>0</th>\n",
       "      <td>LR</td>\n",
       "      <td>5</td>\n",
       "      <td>0.803154</td>\n",
       "      <td>0.809325</td>\n",
       "      <td>0.755678</td>\n",
       "      <td>0.77708</td>\n",
       "      <td>0.877408</td>\n",
       "    </tr>\n",
       "  </tbody>\n",
       "</table>\n",
       "</div>"
      ],
      "text/plain": [
       "  Classification_Method  #Features  accuracy  precision    recall       f1  \\\n",
       "0                    LR          5  0.803154   0.809325  0.755678  0.77708   \n",
       "\n",
       "    roc_auc  \n",
       "0  0.877408  "
      ]
     },
     "execution_count": 435,
     "metadata": {},
     "output_type": "execute_result"
    }
   ],
   "source": [
    "Scores_SRP1['accuracy'] = classification(X_data=X_SRP1, cls_name=LogisticRegression(C=1), scoring_method='accuracy')\n",
    "Scores_SRP1['precision'] = classification(X_data=X_SRP1, cls_name=LogisticRegression(C=1), scoring_method='precision')\n",
    "Scores_SRP1['recall'] = classification(X_data=X_SRP1, cls_name=LogisticRegression(C=1), scoring_method='recall')\n",
    "Scores_SRP1['f1'] = classification(X_data=X_SRP1, cls_name=LogisticRegression(C=1), scoring_method='f1')\n",
    "Scores_SRP1['roc_auc'] = classification(X_data=X_SRP1, cls_name=LogisticRegression(C=1), scoring_method='roc_auc')\n",
    "\n",
    "Scores_SRP1"
   ]
  },
  {
   "cell_type": "markdown",
   "metadata": {},
   "source": [
    "## n=8, LR(C=0.1)"
   ]
  },
  {
   "cell_type": "code",
   "execution_count": 436,
   "metadata": {},
   "outputs": [
    {
     "data": {
      "text/plain": [
       "(303, 8)"
      ]
     },
     "execution_count": 436,
     "metadata": {},
     "output_type": "execute_result"
    }
   ],
   "source": [
    "SRP2 = random_projection.SparseRandomProjection(n_components=8,random_state=1)\n",
    "X_SRP2 = SRP2.fit_transform(X_norm)\n",
    "X_SRP2.shape"
   ]
  },
  {
   "cell_type": "code",
   "execution_count": 437,
   "metadata": {},
   "outputs": [
    {
     "data": {
      "text/html": [
       "<div>\n",
       "<style scoped>\n",
       "    .dataframe tbody tr th:only-of-type {\n",
       "        vertical-align: middle;\n",
       "    }\n",
       "\n",
       "    .dataframe tbody tr th {\n",
       "        vertical-align: top;\n",
       "    }\n",
       "\n",
       "    .dataframe thead th {\n",
       "        text-align: right;\n",
       "    }\n",
       "</style>\n",
       "<table border=\"1\" class=\"dataframe\">\n",
       "  <thead>\n",
       "    <tr style=\"text-align: right;\">\n",
       "      <th></th>\n",
       "      <th>Classification_Method</th>\n",
       "      <th>#Features</th>\n",
       "      <th>accuracy</th>\n",
       "      <th>precision</th>\n",
       "      <th>recall</th>\n",
       "      <th>f1</th>\n",
       "      <th>roc_auc</th>\n",
       "    </tr>\n",
       "  </thead>\n",
       "  <tbody>\n",
       "    <tr>\n",
       "      <th>0</th>\n",
       "      <td>LR (C=0.1)</td>\n",
       "      <td>8</td>\n",
       "      <td>NaN</td>\n",
       "      <td>NaN</td>\n",
       "      <td>NaN</td>\n",
       "      <td>NaN</td>\n",
       "      <td>NaN</td>\n",
       "    </tr>\n",
       "  </tbody>\n",
       "</table>\n",
       "</div>"
      ],
      "text/plain": [
       "  Classification_Method  #Features accuracy precision recall   f1 roc_auc\n",
       "0            LR (C=0.1)          8      NaN       NaN    NaN  NaN     NaN"
      ]
     },
     "execution_count": 437,
     "metadata": {},
     "output_type": "execute_result"
    }
   ],
   "source": [
    "Scores_SRP2 = pd.DataFrame(columns = ['Classification_Method','#Features', 'accuracy','precision','recall','f1','roc_auc'])\n",
    "Scores_SRP2['#Features'] = [8]\n",
    "Scores_SRP2['Classification_Method'] = 'LR (C=0.1)'\n",
    "Scores_SRP2"
   ]
  },
  {
   "cell_type": "code",
   "execution_count": 438,
   "metadata": {},
   "outputs": [
    {
     "data": {
      "text/html": [
       "<div>\n",
       "<style scoped>\n",
       "    .dataframe tbody tr th:only-of-type {\n",
       "        vertical-align: middle;\n",
       "    }\n",
       "\n",
       "    .dataframe tbody tr th {\n",
       "        vertical-align: top;\n",
       "    }\n",
       "\n",
       "    .dataframe thead th {\n",
       "        text-align: right;\n",
       "    }\n",
       "</style>\n",
       "<table border=\"1\" class=\"dataframe\">\n",
       "  <thead>\n",
       "    <tr style=\"text-align: right;\">\n",
       "      <th></th>\n",
       "      <th>Classification_Method</th>\n",
       "      <th>#Features</th>\n",
       "      <th>accuracy</th>\n",
       "      <th>precision</th>\n",
       "      <th>recall</th>\n",
       "      <th>f1</th>\n",
       "      <th>roc_auc</th>\n",
       "    </tr>\n",
       "  </thead>\n",
       "  <tbody>\n",
       "    <tr>\n",
       "      <th>0</th>\n",
       "      <td>LR (C=0.1)</td>\n",
       "      <td>8</td>\n",
       "      <td>0.805556</td>\n",
       "      <td>0.803754</td>\n",
       "      <td>0.772527</td>\n",
       "      <td>0.783597</td>\n",
       "      <td>0.87329</td>\n",
       "    </tr>\n",
       "  </tbody>\n",
       "</table>\n",
       "</div>"
      ],
      "text/plain": [
       "  Classification_Method  #Features  accuracy  precision    recall        f1  \\\n",
       "0            LR (C=0.1)          8  0.805556   0.803754  0.772527  0.783597   \n",
       "\n",
       "   roc_auc  \n",
       "0  0.87329  "
      ]
     },
     "execution_count": 438,
     "metadata": {},
     "output_type": "execute_result"
    }
   ],
   "source": [
    "Scores_SRP2['accuracy'] = classification(X_data=X_SRP2, cls_name=LogisticRegression(C=0.1), scoring_method='accuracy')\n",
    "Scores_SRP2['precision'] = classification(X_data=X_SRP2, cls_name=LogisticRegression(C=0.1), scoring_method='precision')\n",
    "Scores_SRP2['recall'] = classification(X_data=X_SRP2, cls_name=LogisticRegression(C=0.1), scoring_method='recall')\n",
    "Scores_SRP2['f1'] = classification(X_data=X_SRP2, cls_name=LogisticRegression(C=0.1), scoring_method='f1')\n",
    "Scores_SRP2['roc_auc'] = classification(X_data=X_SRP2, cls_name=LogisticRegression(C=0.1), scoring_method='roc_auc')\n",
    "\n",
    "Scores_SRP2"
   ]
  },
  {
   "cell_type": "markdown",
   "metadata": {},
   "source": [
    "## n=9, LR(C=0.01)"
   ]
  },
  {
   "cell_type": "code",
   "execution_count": 439,
   "metadata": {},
   "outputs": [
    {
     "data": {
      "text/plain": [
       "(303, 9)"
      ]
     },
     "execution_count": 439,
     "metadata": {},
     "output_type": "execute_result"
    }
   ],
   "source": [
    "SRP3 = random_projection.SparseRandomProjection(n_components=9,random_state=1)\n",
    "X_SRP3 = SRP3.fit_transform(X_norm)\n",
    "X_SRP3.shape"
   ]
  },
  {
   "cell_type": "code",
   "execution_count": 440,
   "metadata": {},
   "outputs": [
    {
     "data": {
      "text/html": [
       "<div>\n",
       "<style scoped>\n",
       "    .dataframe tbody tr th:only-of-type {\n",
       "        vertical-align: middle;\n",
       "    }\n",
       "\n",
       "    .dataframe tbody tr th {\n",
       "        vertical-align: top;\n",
       "    }\n",
       "\n",
       "    .dataframe thead th {\n",
       "        text-align: right;\n",
       "    }\n",
       "</style>\n",
       "<table border=\"1\" class=\"dataframe\">\n",
       "  <thead>\n",
       "    <tr style=\"text-align: right;\">\n",
       "      <th></th>\n",
       "      <th>Classification_Method</th>\n",
       "      <th>#Features</th>\n",
       "      <th>accuracy</th>\n",
       "      <th>precision</th>\n",
       "      <th>recall</th>\n",
       "      <th>f1</th>\n",
       "      <th>roc_auc</th>\n",
       "    </tr>\n",
       "  </thead>\n",
       "  <tbody>\n",
       "    <tr>\n",
       "      <th>0</th>\n",
       "      <td>LR (C=0.01)</td>\n",
       "      <td>9</td>\n",
       "      <td>NaN</td>\n",
       "      <td>NaN</td>\n",
       "      <td>NaN</td>\n",
       "      <td>NaN</td>\n",
       "      <td>NaN</td>\n",
       "    </tr>\n",
       "  </tbody>\n",
       "</table>\n",
       "</div>"
      ],
      "text/plain": [
       "  Classification_Method  #Features accuracy precision recall   f1 roc_auc\n",
       "0           LR (C=0.01)          9      NaN       NaN    NaN  NaN     NaN"
      ]
     },
     "execution_count": 440,
     "metadata": {},
     "output_type": "execute_result"
    }
   ],
   "source": [
    "Scores_SRP3 = pd.DataFrame(columns = ['Classification_Method','#Features', 'accuracy','precision','recall','f1','roc_auc'])\n",
    "Scores_SRP3['#Features'] = [9]\n",
    "Scores_SRP3['Classification_Method'] = 'LR (C=0.01)'\n",
    "Scores_SRP3"
   ]
  },
  {
   "cell_type": "code",
   "execution_count": 442,
   "metadata": {},
   "outputs": [
    {
     "data": {
      "text/html": [
       "<div>\n",
       "<style scoped>\n",
       "    .dataframe tbody tr th:only-of-type {\n",
       "        vertical-align: middle;\n",
       "    }\n",
       "\n",
       "    .dataframe tbody tr th {\n",
       "        vertical-align: top;\n",
       "    }\n",
       "\n",
       "    .dataframe thead th {\n",
       "        text-align: right;\n",
       "    }\n",
       "</style>\n",
       "<table border=\"1\" class=\"dataframe\">\n",
       "  <thead>\n",
       "    <tr style=\"text-align: right;\">\n",
       "      <th></th>\n",
       "      <th>Classification_Method</th>\n",
       "      <th>#Features</th>\n",
       "      <th>accuracy</th>\n",
       "      <th>precision</th>\n",
       "      <th>recall</th>\n",
       "      <th>f1</th>\n",
       "      <th>roc_auc</th>\n",
       "    </tr>\n",
       "  </thead>\n",
       "  <tbody>\n",
       "    <tr>\n",
       "      <th>0</th>\n",
       "      <td>LR (C=0.01)</td>\n",
       "      <td>9</td>\n",
       "      <td>0.806487</td>\n",
       "      <td>0.83697</td>\n",
       "      <td>0.721795</td>\n",
       "      <td>0.771543</td>\n",
       "      <td>0.869578</td>\n",
       "    </tr>\n",
       "  </tbody>\n",
       "</table>\n",
       "</div>"
      ],
      "text/plain": [
       "  Classification_Method  #Features  accuracy  precision    recall        f1  \\\n",
       "0           LR (C=0.01)          9  0.806487    0.83697  0.721795  0.771543   \n",
       "\n",
       "    roc_auc  \n",
       "0  0.869578  "
      ]
     },
     "execution_count": 442,
     "metadata": {},
     "output_type": "execute_result"
    }
   ],
   "source": [
    "Scores_SRP3['accuracy'] = classification(X_data=X_SRP3, cls_name=LogisticRegression(C=0.01), scoring_method='accuracy')\n",
    "Scores_SRP3['precision'] = classification(X_data=X_SRP3, cls_name=LogisticRegression(C=0.01), scoring_method='precision')\n",
    "Scores_SRP3['recall'] = classification(X_data=X_SRP3, cls_name=LogisticRegression(C=0.01), scoring_method='recall')\n",
    "Scores_SRP3['f1'] = classification(X_data=X_SRP3, cls_name=LogisticRegression(C=0.01), scoring_method='f1')\n",
    "Scores_SRP3['roc_auc'] = classification(X_data=X_SRP3, cls_name=LogisticRegression(C=0.01), scoring_method='roc_auc')\n",
    "\n",
    "Scores_SRP3"
   ]
  },
  {
   "cell_type": "code",
   "execution_count": 464,
   "metadata": {},
   "outputs": [
    {
     "data": {
      "text/plain": [
       "(303, 4)"
      ]
     },
     "execution_count": 464,
     "metadata": {},
     "output_type": "execute_result"
    }
   ],
   "source": [
    "SRP = random_projection.SparseRandomProjection(n_components=4,random_state=1)\n",
    "X_SRP = SRP.fit_transform(X)\n",
    "X_SRP.shape\n",
    "# n=4, C=1"
   ]
  },
  {
   "cell_type": "code",
   "execution_count": 470,
   "metadata": {},
   "outputs": [
    {
     "data": {
      "text/plain": [
       "0.8007168458781363"
      ]
     },
     "execution_count": 470,
     "metadata": {},
     "output_type": "execute_result"
    }
   ],
   "source": [
    "classification(X_data=X_SRP, cls_name=LogisticRegression(C=100), scoring_method='accuracy')"
   ]
  }
 ],
 "metadata": {
  "kernelspec": {
   "display_name": "Python 3",
   "language": "python",
   "name": "python3"
  },
  "language_info": {
   "codemirror_mode": {
    "name": "ipython",
    "version": 3
   },
   "file_extension": ".py",
   "mimetype": "text/x-python",
   "name": "python",
   "nbconvert_exporter": "python",
   "pygments_lexer": "ipython3",
   "version": "3.8.2"
  }
 },
 "nbformat": 4,
 "nbformat_minor": 4
}
