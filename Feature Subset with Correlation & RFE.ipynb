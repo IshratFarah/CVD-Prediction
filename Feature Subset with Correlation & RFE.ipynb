{
 "cells": [
  {
   "cell_type": "code",
   "execution_count": 91,
   "metadata": {},
   "outputs": [],
   "source": [
    "import numpy as np\n",
    "import pandas as pd\n",
    "import matplotlib.pyplot as plt \n",
    "import seaborn as sns\n",
    "from sklearn.model_selection import train_test_split\n",
    "from sklearn.impute import SimpleImputer\n",
    "from sklearn import svm\n",
    "from sklearn.metrics import f1_score\n",
    "from sklearn.model_selection import cross_val_score\n",
    "from sklearn.model_selection import RepeatedStratifiedKFold\n",
    "from sklearn.preprocessing import StandardScaler\n",
    "from sklearn.metrics import confusion_matrix\n",
    "import seaborn as sns\n",
    "from matplotlib.colors import ListedColormap\n",
    "from sklearn.linear_model import LogisticRegression\n",
    "from sklearn.datasets import make_classification\n",
    "from sklearn.feature_selection import RFE\n",
    "import warnings\n",
    "warnings.filterwarnings('ignore')"
   ]
  },
  {
   "cell_type": "code",
   "execution_count": 2,
   "metadata": {
    "scrolled": true
   },
   "outputs": [
    {
     "data": {
      "text/html": [
       "<div>\n",
       "<style scoped>\n",
       "    .dataframe tbody tr th:only-of-type {\n",
       "        vertical-align: middle;\n",
       "    }\n",
       "\n",
       "    .dataframe tbody tr th {\n",
       "        vertical-align: top;\n",
       "    }\n",
       "\n",
       "    .dataframe thead th {\n",
       "        text-align: right;\n",
       "    }\n",
       "</style>\n",
       "<table border=\"1\" class=\"dataframe\">\n",
       "  <thead>\n",
       "    <tr style=\"text-align: right;\">\n",
       "      <th></th>\n",
       "      <th>age</th>\n",
       "      <th>sex</th>\n",
       "      <th>cp</th>\n",
       "      <th>trestbps</th>\n",
       "      <th>chol</th>\n",
       "      <th>fbs</th>\n",
       "      <th>restecg</th>\n",
       "      <th>thalach</th>\n",
       "      <th>exang</th>\n",
       "      <th>oldpeak</th>\n",
       "      <th>slope</th>\n",
       "      <th>ca</th>\n",
       "      <th>thal</th>\n",
       "      <th>target</th>\n",
       "    </tr>\n",
       "  </thead>\n",
       "  <tbody>\n",
       "    <tr>\n",
       "      <th>0</th>\n",
       "      <td>63.0</td>\n",
       "      <td>1.0</td>\n",
       "      <td>1.0</td>\n",
       "      <td>145.0</td>\n",
       "      <td>233.0</td>\n",
       "      <td>1.0</td>\n",
       "      <td>2.0</td>\n",
       "      <td>150.0</td>\n",
       "      <td>0.0</td>\n",
       "      <td>2.3</td>\n",
       "      <td>3.0</td>\n",
       "      <td>0.0</td>\n",
       "      <td>6.0</td>\n",
       "      <td>0</td>\n",
       "    </tr>\n",
       "    <tr>\n",
       "      <th>1</th>\n",
       "      <td>67.0</td>\n",
       "      <td>1.0</td>\n",
       "      <td>4.0</td>\n",
       "      <td>160.0</td>\n",
       "      <td>286.0</td>\n",
       "      <td>0.0</td>\n",
       "      <td>2.0</td>\n",
       "      <td>108.0</td>\n",
       "      <td>1.0</td>\n",
       "      <td>1.5</td>\n",
       "      <td>2.0</td>\n",
       "      <td>3.0</td>\n",
       "      <td>3.0</td>\n",
       "      <td>2</td>\n",
       "    </tr>\n",
       "    <tr>\n",
       "      <th>2</th>\n",
       "      <td>67.0</td>\n",
       "      <td>1.0</td>\n",
       "      <td>4.0</td>\n",
       "      <td>120.0</td>\n",
       "      <td>229.0</td>\n",
       "      <td>0.0</td>\n",
       "      <td>2.0</td>\n",
       "      <td>129.0</td>\n",
       "      <td>1.0</td>\n",
       "      <td>2.6</td>\n",
       "      <td>2.0</td>\n",
       "      <td>2.0</td>\n",
       "      <td>7.0</td>\n",
       "      <td>1</td>\n",
       "    </tr>\n",
       "    <tr>\n",
       "      <th>3</th>\n",
       "      <td>37.0</td>\n",
       "      <td>1.0</td>\n",
       "      <td>3.0</td>\n",
       "      <td>130.0</td>\n",
       "      <td>250.0</td>\n",
       "      <td>0.0</td>\n",
       "      <td>0.0</td>\n",
       "      <td>187.0</td>\n",
       "      <td>0.0</td>\n",
       "      <td>3.5</td>\n",
       "      <td>3.0</td>\n",
       "      <td>0.0</td>\n",
       "      <td>3.0</td>\n",
       "      <td>0</td>\n",
       "    </tr>\n",
       "    <tr>\n",
       "      <th>4</th>\n",
       "      <td>41.0</td>\n",
       "      <td>0.0</td>\n",
       "      <td>2.0</td>\n",
       "      <td>130.0</td>\n",
       "      <td>204.0</td>\n",
       "      <td>0.0</td>\n",
       "      <td>2.0</td>\n",
       "      <td>172.0</td>\n",
       "      <td>0.0</td>\n",
       "      <td>1.4</td>\n",
       "      <td>1.0</td>\n",
       "      <td>0.0</td>\n",
       "      <td>3.0</td>\n",
       "      <td>0</td>\n",
       "    </tr>\n",
       "    <tr>\n",
       "      <th>...</th>\n",
       "      <td>...</td>\n",
       "      <td>...</td>\n",
       "      <td>...</td>\n",
       "      <td>...</td>\n",
       "      <td>...</td>\n",
       "      <td>...</td>\n",
       "      <td>...</td>\n",
       "      <td>...</td>\n",
       "      <td>...</td>\n",
       "      <td>...</td>\n",
       "      <td>...</td>\n",
       "      <td>...</td>\n",
       "      <td>...</td>\n",
       "      <td>...</td>\n",
       "    </tr>\n",
       "    <tr>\n",
       "      <th>298</th>\n",
       "      <td>45.0</td>\n",
       "      <td>1.0</td>\n",
       "      <td>1.0</td>\n",
       "      <td>110.0</td>\n",
       "      <td>264.0</td>\n",
       "      <td>0.0</td>\n",
       "      <td>0.0</td>\n",
       "      <td>132.0</td>\n",
       "      <td>0.0</td>\n",
       "      <td>1.2</td>\n",
       "      <td>2.0</td>\n",
       "      <td>0.0</td>\n",
       "      <td>7.0</td>\n",
       "      <td>1</td>\n",
       "    </tr>\n",
       "    <tr>\n",
       "      <th>299</th>\n",
       "      <td>68.0</td>\n",
       "      <td>1.0</td>\n",
       "      <td>4.0</td>\n",
       "      <td>144.0</td>\n",
       "      <td>193.0</td>\n",
       "      <td>1.0</td>\n",
       "      <td>0.0</td>\n",
       "      <td>141.0</td>\n",
       "      <td>0.0</td>\n",
       "      <td>3.4</td>\n",
       "      <td>2.0</td>\n",
       "      <td>2.0</td>\n",
       "      <td>7.0</td>\n",
       "      <td>2</td>\n",
       "    </tr>\n",
       "    <tr>\n",
       "      <th>300</th>\n",
       "      <td>57.0</td>\n",
       "      <td>1.0</td>\n",
       "      <td>4.0</td>\n",
       "      <td>130.0</td>\n",
       "      <td>131.0</td>\n",
       "      <td>0.0</td>\n",
       "      <td>0.0</td>\n",
       "      <td>115.0</td>\n",
       "      <td>1.0</td>\n",
       "      <td>1.2</td>\n",
       "      <td>2.0</td>\n",
       "      <td>1.0</td>\n",
       "      <td>7.0</td>\n",
       "      <td>3</td>\n",
       "    </tr>\n",
       "    <tr>\n",
       "      <th>301</th>\n",
       "      <td>57.0</td>\n",
       "      <td>0.0</td>\n",
       "      <td>2.0</td>\n",
       "      <td>130.0</td>\n",
       "      <td>236.0</td>\n",
       "      <td>0.0</td>\n",
       "      <td>2.0</td>\n",
       "      <td>174.0</td>\n",
       "      <td>0.0</td>\n",
       "      <td>0.0</td>\n",
       "      <td>2.0</td>\n",
       "      <td>1.0</td>\n",
       "      <td>3.0</td>\n",
       "      <td>1</td>\n",
       "    </tr>\n",
       "    <tr>\n",
       "      <th>302</th>\n",
       "      <td>38.0</td>\n",
       "      <td>1.0</td>\n",
       "      <td>3.0</td>\n",
       "      <td>138.0</td>\n",
       "      <td>175.0</td>\n",
       "      <td>0.0</td>\n",
       "      <td>0.0</td>\n",
       "      <td>173.0</td>\n",
       "      <td>0.0</td>\n",
       "      <td>0.0</td>\n",
       "      <td>1.0</td>\n",
       "      <td>?</td>\n",
       "      <td>3.0</td>\n",
       "      <td>0</td>\n",
       "    </tr>\n",
       "  </tbody>\n",
       "</table>\n",
       "<p>303 rows × 14 columns</p>\n",
       "</div>"
      ],
      "text/plain": [
       "      age  sex   cp  trestbps   chol  fbs  restecg  thalach  exang  oldpeak  \\\n",
       "0    63.0  1.0  1.0     145.0  233.0  1.0      2.0    150.0    0.0      2.3   \n",
       "1    67.0  1.0  4.0     160.0  286.0  0.0      2.0    108.0    1.0      1.5   \n",
       "2    67.0  1.0  4.0     120.0  229.0  0.0      2.0    129.0    1.0      2.6   \n",
       "3    37.0  1.0  3.0     130.0  250.0  0.0      0.0    187.0    0.0      3.5   \n",
       "4    41.0  0.0  2.0     130.0  204.0  0.0      2.0    172.0    0.0      1.4   \n",
       "..    ...  ...  ...       ...    ...  ...      ...      ...    ...      ...   \n",
       "298  45.0  1.0  1.0     110.0  264.0  0.0      0.0    132.0    0.0      1.2   \n",
       "299  68.0  1.0  4.0     144.0  193.0  1.0      0.0    141.0    0.0      3.4   \n",
       "300  57.0  1.0  4.0     130.0  131.0  0.0      0.0    115.0    1.0      1.2   \n",
       "301  57.0  0.0  2.0     130.0  236.0  0.0      2.0    174.0    0.0      0.0   \n",
       "302  38.0  1.0  3.0     138.0  175.0  0.0      0.0    173.0    0.0      0.0   \n",
       "\n",
       "     slope   ca thal  target  \n",
       "0      3.0  0.0  6.0       0  \n",
       "1      2.0  3.0  3.0       2  \n",
       "2      2.0  2.0  7.0       1  \n",
       "3      3.0  0.0  3.0       0  \n",
       "4      1.0  0.0  3.0       0  \n",
       "..     ...  ...  ...     ...  \n",
       "298    2.0  0.0  7.0       1  \n",
       "299    2.0  2.0  7.0       2  \n",
       "300    2.0  1.0  7.0       3  \n",
       "301    2.0  1.0  3.0       1  \n",
       "302    1.0    ?  3.0       0  \n",
       "\n",
       "[303 rows x 14 columns]"
      ]
     },
     "execution_count": 2,
     "metadata": {},
     "output_type": "execute_result"
    }
   ],
   "source": [
    "df = pd.read_csv('/media/raian/Projects/Datasets/UCI-HeartDisease/processed.cleveland_test.csv', header=None)\n",
    "df\n",
    "df.columns = ['age','sex','cp','trestbps','chol','fbs','restecg','thalach','exang','oldpeak','slope','ca','thal','target']\n",
    "df"
   ]
  },
  {
   "cell_type": "code",
   "execution_count": 3,
   "metadata": {},
   "outputs": [
    {
     "data": {
      "text/plain": [
       "(303, 14)"
      ]
     },
     "execution_count": 3,
     "metadata": {},
     "output_type": "execute_result"
    }
   ],
   "source": [
    "df.shape"
   ]
  },
  {
   "cell_type": "code",
   "execution_count": 4,
   "metadata": {},
   "outputs": [
    {
     "data": {
      "text/plain": [
       "139"
      ]
     },
     "execution_count": 4,
     "metadata": {},
     "output_type": "execute_result"
    }
   ],
   "source": [
    "# count of tuples in class 1,2,3,4\n",
    "\n",
    "df['target'][df['target']>0].value_counts().sum()"
   ]
  },
  {
   "cell_type": "code",
   "execution_count": 5,
   "metadata": {},
   "outputs": [
    {
     "data": {
      "text/plain": [
       "139"
      ]
     },
     "execution_count": 5,
     "metadata": {},
     "output_type": "execute_result"
    }
   ],
   "source": [
    "# converting to binary class\n",
    "# replace class 1,2,3,4 by 1\n",
    "\n",
    "df['target'] = df['target'].mask(df['target']>0, 1)\n",
    "\n",
    "# count of tuples in class 1 after replacement\n",
    "\n",
    "df['target'][df['target'] == 1].value_counts().sum()"
   ]
  },
  {
   "cell_type": "code",
   "execution_count": 6,
   "metadata": {},
   "outputs": [
    {
     "name": "stdout",
     "output_type": "stream",
     "text": [
      "thal 87 ?\n",
      "ca 166 ?\n",
      "ca 192 ?\n",
      "thal 266 ?\n",
      "ca 287 ?\n",
      "ca 302 ?\n"
     ]
    }
   ],
   "source": [
    "# Find missing values '?'\n",
    "\n",
    "for i in range(0,df.shape[0]):\n",
    "    for j in range(0,df.shape[1]):\n",
    "        if df.iloc[i,j] == '?':\n",
    "            print(df.columns[j],i,df.iloc[i,j])\n"
   ]
  },
  {
   "cell_type": "code",
   "execution_count": 7,
   "metadata": {},
   "outputs": [],
   "source": [
    "# Correlation Matrix\n",
    "\n",
    "def correlation(method_name,threshold):\n",
    "    plt.figure(figsize=(10,8))\n",
    "    corr = df.corr(method = method_name)\n",
    "    sns.heatmap(corr, annot = True)\n",
    "    plt.show()\n",
    "    \n",
    "# Correlation with output variable\n",
    " \n",
    "    corr_target = abs(corr[\"target\"])\n",
    "\n",
    "# Highly correlated features \n",
    "\n",
    "    relevant_features = corr_target[corr_target > threshold]\n",
    "    print(relevant_features)\n",
    "    return relevant_features"
   ]
  },
  {
   "cell_type": "code",
   "execution_count": 8,
   "metadata": {},
   "outputs": [
    {
     "data": {
      "image/png": "[encoded data removed]",
      "text/plain": [
       "<Figure size 720x576 with 2 Axes>"
      ]
     },
     "metadata": {
      "needs_background": "light"
     },
     "output_type": "display_data"
    },
    {
     "name": "stdout",
     "output_type": "stream",
     "text": [
      "cp         0.414446\n",
      "thalach    0.417167\n",
      "exang      0.431894\n",
      "oldpeak    0.424510\n",
      "target     1.000000\n",
      "Name: target, dtype: float64\n"
     ]
    },
    {
     "data": {
      "text/html": [
       "<div>\n",
       "<style scoped>\n",
       "    .dataframe tbody tr th:only-of-type {\n",
       "        vertical-align: middle;\n",
       "    }\n",
       "\n",
       "    .dataframe tbody tr th {\n",
       "        vertical-align: top;\n",
       "    }\n",
       "\n",
       "    .dataframe thead th {\n",
       "        text-align: right;\n",
       "    }\n",
       "</style>\n",
       "<table border=\"1\" class=\"dataframe\">\n",
       "  <thead>\n",
       "    <tr style=\"text-align: right;\">\n",
       "      <th></th>\n",
       "      <th>pearson</th>\n",
       "    </tr>\n",
       "  </thead>\n",
       "  <tbody>\n",
       "    <tr>\n",
       "      <th>cp</th>\n",
       "      <td>0.414446</td>\n",
       "    </tr>\n",
       "    <tr>\n",
       "      <th>thalach</th>\n",
       "      <td>0.417167</td>\n",
       "    </tr>\n",
       "    <tr>\n",
       "      <th>exang</th>\n",
       "      <td>0.431894</td>\n",
       "    </tr>\n",
       "    <tr>\n",
       "      <th>oldpeak</th>\n",
       "      <td>0.424510</td>\n",
       "    </tr>\n",
       "    <tr>\n",
       "      <th>target</th>\n",
       "      <td>1.000000</td>\n",
       "    </tr>\n",
       "  </tbody>\n",
       "</table>\n",
       "</div>"
      ],
      "text/plain": [
       "          pearson\n",
       "cp       0.414446\n",
       "thalach  0.417167\n",
       "exang    0.431894\n",
       "oldpeak  0.424510\n",
       "target   1.000000"
      ]
     },
     "execution_count": 8,
     "metadata": {},
     "output_type": "execute_result"
    }
   ],
   "source": [
    "# Dataframe corr contains strong correlation with target attribute \n",
    "# Three types of correlation methods are used: Pearson, Kendall, Spearman\n",
    "\n",
    "corr = pd.DataFrame()\n",
    "\n",
    "corr['pearson'] = correlation(\"pearson\",0.4)\n",
    "corr"
   ]
  },
  {
   "cell_type": "code",
   "execution_count": 9,
   "metadata": {},
   "outputs": [
    {
     "data": {
      "image/png": "[encoded data removed]",
      "text/plain": [
       "<Figure size 720x576 with 2 Axes>"
      ]
     },
     "metadata": {
      "needs_background": "light"
     },
     "output_type": "display_data"
    },
    {
     "name": "stdout",
     "output_type": "stream",
     "text": [
      "cp        0.440972\n",
      "exang     0.431894\n",
      "target    1.000000\n",
      "Name: target, dtype: float64\n"
     ]
    },
    {
     "data": {
      "text/html": [
       "<div>\n",
       "<style scoped>\n",
       "    .dataframe tbody tr th:only-of-type {\n",
       "        vertical-align: middle;\n",
       "    }\n",
       "\n",
       "    .dataframe tbody tr th {\n",
       "        vertical-align: top;\n",
       "    }\n",
       "\n",
       "    .dataframe thead th {\n",
       "        text-align: right;\n",
       "    }\n",
       "</style>\n",
       "<table border=\"1\" class=\"dataframe\">\n",
       "  <thead>\n",
       "    <tr style=\"text-align: right;\">\n",
       "      <th></th>\n",
       "      <th>pearson</th>\n",
       "      <th>kendall</th>\n",
       "    </tr>\n",
       "  </thead>\n",
       "  <tbody>\n",
       "    <tr>\n",
       "      <th>cp</th>\n",
       "      <td>0.414446</td>\n",
       "      <td>0.440972</td>\n",
       "    </tr>\n",
       "    <tr>\n",
       "      <th>thalach</th>\n",
       "      <td>0.417167</td>\n",
       "      <td>NaN</td>\n",
       "    </tr>\n",
       "    <tr>\n",
       "      <th>exang</th>\n",
       "      <td>0.431894</td>\n",
       "      <td>0.431894</td>\n",
       "    </tr>\n",
       "    <tr>\n",
       "      <th>oldpeak</th>\n",
       "      <td>0.424510</td>\n",
       "      <td>NaN</td>\n",
       "    </tr>\n",
       "    <tr>\n",
       "      <th>target</th>\n",
       "      <td>1.000000</td>\n",
       "      <td>1.000000</td>\n",
       "    </tr>\n",
       "  </tbody>\n",
       "</table>\n",
       "</div>"
      ],
      "text/plain": [
       "          pearson   kendall\n",
       "cp       0.414446  0.440972\n",
       "thalach  0.417167       NaN\n",
       "exang    0.431894  0.431894\n",
       "oldpeak  0.424510       NaN\n",
       "target   1.000000  1.000000"
      ]
     },
     "execution_count": 9,
     "metadata": {},
     "output_type": "execute_result"
    }
   ],
   "source": [
    "corr['kendall'] = correlation(\"kendall\",0.4)\n",
    "corr"
   ]
  },
  {
   "cell_type": "code",
   "execution_count": 10,
   "metadata": {},
   "outputs": [
    {
     "data": {
      "image/png": "[encoded data removed]",
      "text/plain": [
       "<Figure size 720x576 with 2 Axes>"
      ]
     },
     "metadata": {
      "needs_background": "light"
     },
     "output_type": "display_data"
    },
    {
     "name": "stdout",
     "output_type": "stream",
     "text": [
      "cp         0.472006\n",
      "thalach    0.423467\n",
      "exang      0.431894\n",
      "oldpeak    0.413382\n",
      "target     1.000000\n",
      "Name: target, dtype: float64\n"
     ]
    },
    {
     "data": {
      "text/html": [
       "<div>\n",
       "<style scoped>\n",
       "    .dataframe tbody tr th:only-of-type {\n",
       "        vertical-align: middle;\n",
       "    }\n",
       "\n",
       "    .dataframe tbody tr th {\n",
       "        vertical-align: top;\n",
       "    }\n",
       "\n",
       "    .dataframe thead th {\n",
       "        text-align: right;\n",
       "    }\n",
       "</style>\n",
       "<table border=\"1\" class=\"dataframe\">\n",
       "  <thead>\n",
       "    <tr style=\"text-align: right;\">\n",
       "      <th></th>\n",
       "      <th>pearson</th>\n",
       "      <th>kendall</th>\n",
       "      <th>spearman</th>\n",
       "    </tr>\n",
       "  </thead>\n",
       "  <tbody>\n",
       "    <tr>\n",
       "      <th>cp</th>\n",
       "      <td>0.414446</td>\n",
       "      <td>0.440972</td>\n",
       "      <td>0.472006</td>\n",
       "    </tr>\n",
       "    <tr>\n",
       "      <th>thalach</th>\n",
       "      <td>0.417167</td>\n",
       "      <td>NaN</td>\n",
       "      <td>0.423467</td>\n",
       "    </tr>\n",
       "    <tr>\n",
       "      <th>exang</th>\n",
       "      <td>0.431894</td>\n",
       "      <td>0.431894</td>\n",
       "      <td>0.431894</td>\n",
       "    </tr>\n",
       "    <tr>\n",
       "      <th>oldpeak</th>\n",
       "      <td>0.424510</td>\n",
       "      <td>NaN</td>\n",
       "      <td>0.413382</td>\n",
       "    </tr>\n",
       "    <tr>\n",
       "      <th>target</th>\n",
       "      <td>1.000000</td>\n",
       "      <td>1.000000</td>\n",
       "      <td>1.000000</td>\n",
       "    </tr>\n",
       "  </tbody>\n",
       "</table>\n",
       "</div>"
      ],
      "text/plain": [
       "          pearson   kendall  spearman\n",
       "cp       0.414446  0.440972  0.472006\n",
       "thalach  0.417167       NaN  0.423467\n",
       "exang    0.431894  0.431894  0.431894\n",
       "oldpeak  0.424510       NaN  0.413382\n",
       "target   1.000000  1.000000  1.000000"
      ]
     },
     "execution_count": 10,
     "metadata": {},
     "output_type": "execute_result"
    }
   ],
   "source": [
    "corr['spearman'] = correlation(\"spearman\",0.4)\n",
    "corr"
   ]
  },
  {
   "cell_type": "code",
   "execution_count": 11,
   "metadata": {},
   "outputs": [
    {
     "data": {
      "text/plain": [
       "age         0\n",
       "sex         0\n",
       "cp          0\n",
       "trestbps    0\n",
       "chol        0\n",
       "fbs         0\n",
       "restecg     0\n",
       "thalach     0\n",
       "exang       0\n",
       "oldpeak     0\n",
       "slope       0\n",
       "ca          4\n",
       "thal        2\n",
       "target      0\n",
       "dtype: int64"
      ]
     },
     "execution_count": 11,
     "metadata": {},
     "output_type": "execute_result"
    }
   ],
   "source": [
    "# Replace '?' by np.nan\n",
    "\n",
    "df = df.replace('?',np.nan)\n",
    "\n",
    "# Find missing values np.nan\n",
    "\n",
    "df.isna().sum()\n"
   ]
  },
  {
   "cell_type": "code",
   "execution_count": 12,
   "metadata": {},
   "outputs": [
    {
     "data": {
      "text/plain": [
       "age         0\n",
       "sex         0\n",
       "cp          0\n",
       "trestbps    0\n",
       "chol        0\n",
       "fbs         0\n",
       "restecg     0\n",
       "thalach     0\n",
       "exang       0\n",
       "oldpeak     0\n",
       "slope       0\n",
       "ca          0\n",
       "thal        0\n",
       "target      0\n",
       "dtype: int64"
      ]
     },
     "execution_count": 12,
     "metadata": {},
     "output_type": "execute_result"
    }
   ],
   "source": [
    "# Impute np.nan with Most Frequent values\n",
    "\n",
    "df_imp = df.copy(deep=True)\n",
    "df_imp\n",
    "imp = SimpleImputer(strategy='most_frequent')\n",
    "df_imp = pd.DataFrame(imp.fit_transform(df_imp),columns=df_imp.columns)\n",
    "df_imp\n",
    "df_imp.isna().sum()\n"
   ]
  },
  {
   "cell_type": "code",
   "execution_count": 13,
   "metadata": {},
   "outputs": [
    {
     "data": {
      "image/png": "[encoded data removed]",
      "text/plain": [
       "<Figure size 720x576 with 2 Axes>"
      ]
     },
     "metadata": {
      "needs_background": "light"
     },
     "output_type": "display_data"
    },
    {
     "name": "stdout",
     "output_type": "stream",
     "text": [
      "cp         0.414446\n",
      "thalach    0.417167\n",
      "exang      0.431894\n",
      "oldpeak    0.424510\n",
      "target     1.000000\n",
      "Name: target, dtype: float64\n"
     ]
    },
    {
     "data": {
      "image/png": "[encoded data removed]",
      "text/plain": [
       "<Figure size 720x576 with 2 Axes>"
      ]
     },
     "metadata": {
      "needs_background": "light"
     },
     "output_type": "display_data"
    },
    {
     "name": "stdout",
     "output_type": "stream",
     "text": [
      "cp        0.440972\n",
      "exang     0.431894\n",
      "target    1.000000\n",
      "Name: target, dtype: float64\n"
     ]
    },
    {
     "data": {
      "image/png": "[encoded data removed]",
      "text/plain": [
       "<Figure size 720x576 with 2 Axes>"
      ]
     },
     "metadata": {
      "needs_background": "light"
     },
     "output_type": "display_data"
    },
    {
     "name": "stdout",
     "output_type": "stream",
     "text": [
      "cp         0.472006\n",
      "thalach    0.423467\n",
      "exang      0.431894\n",
      "oldpeak    0.413382\n",
      "target     1.000000\n",
      "Name: target, dtype: float64\n"
     ]
    },
    {
     "data": {
      "text/html": [
       "<div>\n",
       "<style scoped>\n",
       "    .dataframe tbody tr th:only-of-type {\n",
       "        vertical-align: middle;\n",
       "    }\n",
       "\n",
       "    .dataframe tbody tr th {\n",
       "        vertical-align: top;\n",
       "    }\n",
       "\n",
       "    .dataframe thead th {\n",
       "        text-align: right;\n",
       "    }\n",
       "</style>\n",
       "<table border=\"1\" class=\"dataframe\">\n",
       "  <thead>\n",
       "    <tr style=\"text-align: right;\">\n",
       "      <th></th>\n",
       "      <th>pearson</th>\n",
       "      <th>kendall</th>\n",
       "      <th>spearman</th>\n",
       "    </tr>\n",
       "  </thead>\n",
       "  <tbody>\n",
       "    <tr>\n",
       "      <th>cp</th>\n",
       "      <td>0.414446</td>\n",
       "      <td>0.440972</td>\n",
       "      <td>0.472006</td>\n",
       "    </tr>\n",
       "    <tr>\n",
       "      <th>thalach</th>\n",
       "      <td>0.417167</td>\n",
       "      <td>NaN</td>\n",
       "      <td>0.423467</td>\n",
       "    </tr>\n",
       "    <tr>\n",
       "      <th>exang</th>\n",
       "      <td>0.431894</td>\n",
       "      <td>0.431894</td>\n",
       "      <td>0.431894</td>\n",
       "    </tr>\n",
       "    <tr>\n",
       "      <th>oldpeak</th>\n",
       "      <td>0.424510</td>\n",
       "      <td>NaN</td>\n",
       "      <td>0.413382</td>\n",
       "    </tr>\n",
       "    <tr>\n",
       "      <th>target</th>\n",
       "      <td>1.000000</td>\n",
       "      <td>1.000000</td>\n",
       "      <td>1.000000</td>\n",
       "    </tr>\n",
       "  </tbody>\n",
       "</table>\n",
       "</div>"
      ],
      "text/plain": [
       "          pearson   kendall  spearman\n",
       "cp       0.414446  0.440972  0.472006\n",
       "thalach  0.417167       NaN  0.423467\n",
       "exang    0.431894  0.431894  0.431894\n",
       "oldpeak  0.424510       NaN  0.413382\n",
       "target   1.000000  1.000000  1.000000"
      ]
     },
     "execution_count": 13,
     "metadata": {},
     "output_type": "execute_result"
    }
   ],
   "source": [
    "corr_imp = pd.DataFrame()\n",
    "corr_imp['pearson'] = correlation(\"pearson\",0.4)\n",
    "corr_imp['kendall'] = correlation(\"kendall\",0.4)\n",
    "corr_imp['spearman'] = correlation(\"spearman\",0.4)\n",
    "corr_imp"
   ]
  },
  {
   "cell_type": "code",
   "execution_count": 14,
   "metadata": {},
   "outputs": [
    {
     "data": {
      "text/plain": [
       "True"
      ]
     },
     "execution_count": 14,
     "metadata": {},
     "output_type": "execute_result"
    }
   ],
   "source": [
    "# After performing Impuation for the six missing values (by most frequent value), correlation of \n",
    "# the attributes with the target attribute remains exactly same \n",
    "\n",
    "corr.equals(corr_imp)"
   ]
  },
  {
   "cell_type": "code",
   "execution_count": 15,
   "metadata": {},
   "outputs": [
    {
     "data": {
      "text/plain": [
       "age         float64\n",
       "sex         float64\n",
       "cp          float64\n",
       "trestbps    float64\n",
       "chol        float64\n",
       "fbs         float64\n",
       "restecg     float64\n",
       "thalach     float64\n",
       "exang       float64\n",
       "oldpeak     float64\n",
       "slope       float64\n",
       "ca          float64\n",
       "thal        float64\n",
       "target        int64\n",
       "dtype: object"
      ]
     },
     "execution_count": 15,
     "metadata": {},
     "output_type": "execute_result"
    }
   ],
   "source": [
    "df.ca = df.ca.astype('float64')\n",
    "df.thal = df.thal.astype('float64')\n",
    "df.dtypes"
   ]
  },
  {
   "cell_type": "code",
   "execution_count": 16,
   "metadata": {},
   "outputs": [
    {
     "data": {
      "text/plain": [
       "age         float64\n",
       "sex         float64\n",
       "cp          float64\n",
       "trestbps    float64\n",
       "chol        float64\n",
       "fbs         float64\n",
       "restecg     float64\n",
       "thalach     float64\n",
       "exang       float64\n",
       "oldpeak     float64\n",
       "slope       float64\n",
       "ca          float64\n",
       "thal        float64\n",
       "target      float64\n",
       "dtype: object"
      ]
     },
     "execution_count": 16,
     "metadata": {},
     "output_type": "execute_result"
    }
   ],
   "source": [
    "df_imp = df_imp.astype('float64')\n",
    "df_imp.dtypes"
   ]
  },
  {
   "cell_type": "code",
   "execution_count": 17,
   "metadata": {},
   "outputs": [
    {
     "data": {
      "text/plain": [
       "<matplotlib.legend.Legend at 0x7f530b138f70>"
      ]
     },
     "execution_count": 17,
     "metadata": {},
     "output_type": "execute_result"
    },
    {
     "data": {
      "image/png": "[encoded data removed]",
      "text/plain": [
       "<Figure size 432x288 with 1 Axes>"
      ]
     },
     "metadata": {
      "needs_background": "light"
     },
     "output_type": "display_data"
    }
   ],
   "source": [
    "# 1 = Male, 0 = Female\n",
    "# 1 = Presence, 0 = Absence\n",
    "\n",
    "ax = sns.countplot(\"sex\",hue=\"target\",data=df)\n",
    "ax.set_xticklabels([\"female\",\"male\"])\n",
    "ax.legend([\"absence\",\"presence\"])"
   ]
  },
  {
   "cell_type": "code",
   "execution_count": 18,
   "metadata": {},
   "outputs": [
    {
     "data": {
      "text/plain": [
       "0.0030628554897143"
      ]
     },
     "execution_count": 18,
     "metadata": {},
     "output_type": "execute_result"
    }
   ],
   "source": [
    "df['ca'].std() - df_imp['ca'].std()"
   ]
  },
  {
   "cell_type": "code",
   "execution_count": 19,
   "metadata": {},
   "outputs": [
    {
     "data": {
      "text/plain": [
       "0.0030370679438613823"
      ]
     },
     "execution_count": 19,
     "metadata": {},
     "output_type": "execute_result"
    }
   ],
   "source": [
    "df['ca'].std(ddof=0) - df_imp['ca'].std(ddof=0)"
   ]
  },
  {
   "cell_type": "code",
   "execution_count": 20,
   "metadata": {},
   "outputs": [
    {
     "data": {
      "text/plain": [
       "0.001323096022328496"
      ]
     },
     "execution_count": 20,
     "metadata": {},
     "output_type": "execute_result"
    }
   ],
   "source": [
    "df['thal'].std() - df_imp['thal'].std()"
   ]
  },
  {
   "cell_type": "code",
   "execution_count": 21,
   "metadata": {},
   "outputs": [
    {
     "data": {
      "text/plain": [
       "0.0012996075871449797"
      ]
     },
     "execution_count": 21,
     "metadata": {},
     "output_type": "execute_result"
    }
   ],
   "source": [
    "df['thal'].std(ddof=0) - df_imp['thal'].std(ddof=0)"
   ]
  },
  {
   "cell_type": "code",
   "execution_count": 22,
   "metadata": {},
   "outputs": [],
   "source": [
    "X = df_imp.drop(['target'],axis=1)\n",
    "\n",
    "y = df['target']"
   ]
  },
  {
   "cell_type": "markdown",
   "metadata": {},
   "source": [
    "# Apply a Classification Algorithm"
   ]
  },
  {
   "cell_type": "code",
   "execution_count": 224,
   "metadata": {},
   "outputs": [],
   "source": [
    "# define the model\n",
    "\n",
    "def classification(X_data, cls_name, scoring_method):\n",
    "    model = cls_name\n",
    "    \n",
    "# evaluate model\n",
    "\n",
    "    cv = RepeatedStratifiedKFold(n_splits=10, n_repeats=3, random_state=1)\n",
    "    n_scores = cross_val_score(model, X_data, y, scoring=scoring_method, cv=cv)\n",
    "#     print(n_scores)\n",
    "#     print(n_scores.shape)\n",
    "# report performance\n",
    "#     print('Accuracy: mean = %f ' % (n_scores.mean()))\n",
    "    return n_scores.mean()"
   ]
  },
  {
   "cell_type": "code",
   "execution_count": 60,
   "metadata": {},
   "outputs": [
    {
     "data": {
      "text/html": [
       "<div>\n",
       "<style scoped>\n",
       "    .dataframe tbody tr th:only-of-type {\n",
       "        vertical-align: middle;\n",
       "    }\n",
       "\n",
       "    .dataframe tbody tr th {\n",
       "        vertical-align: top;\n",
       "    }\n",
       "\n",
       "    .dataframe thead th {\n",
       "        text-align: right;\n",
       "    }\n",
       "</style>\n",
       "<table border=\"1\" class=\"dataframe\">\n",
       "  <thead>\n",
       "    <tr style=\"text-align: right;\">\n",
       "      <th></th>\n",
       "      <th>Classification Method</th>\n",
       "      <th>Accuracy</th>\n",
       "      <th>Precision</th>\n",
       "      <th>Recall</th>\n",
       "      <th>F1-Score</th>\n",
       "      <th>ROC_AUC</th>\n",
       "    </tr>\n",
       "  </thead>\n",
       "  <tbody>\n",
       "  </tbody>\n",
       "</table>\n",
       "</div>"
      ],
      "text/plain": [
       "Empty DataFrame\n",
       "Columns: [Classification Method, Accuracy, Precision, Recall, F1-Score, ROC_AUC]\n",
       "Index: []"
      ]
     },
     "execution_count": 60,
     "metadata": {},
     "output_type": "execute_result"
    }
   ],
   "source": [
    "Scores = pd.DataFrame(columns = ['Classification Method','Accuracy','Precision','Recall','F1-Score','ROC_AUC'])\n",
    "# Scores.columns = ['Accuracy','Precision','Recall','F1-Score','ROC_AUC']\n",
    "Scores"
   ]
  },
  {
   "cell_type": "code",
   "execution_count": 62,
   "metadata": {},
   "outputs": [
    {
     "data": {
      "text/html": [
       "<div>\n",
       "<style scoped>\n",
       "    .dataframe tbody tr th:only-of-type {\n",
       "        vertical-align: middle;\n",
       "    }\n",
       "\n",
       "    .dataframe tbody tr th {\n",
       "        vertical-align: top;\n",
       "    }\n",
       "\n",
       "    .dataframe thead th {\n",
       "        text-align: right;\n",
       "    }\n",
       "</style>\n",
       "<table border=\"1\" class=\"dataframe\">\n",
       "  <thead>\n",
       "    <tr style=\"text-align: right;\">\n",
       "      <th></th>\n",
       "      <th>Classification Method</th>\n",
       "      <th>Accuracy</th>\n",
       "      <th>Precision</th>\n",
       "      <th>Recall</th>\n",
       "      <th>F1-Score</th>\n",
       "      <th>ROC_AUC</th>\n",
       "    </tr>\n",
       "  </thead>\n",
       "  <tbody>\n",
       "    <tr>\n",
       "      <th>0</th>\n",
       "      <td>LG Default</td>\n",
       "      <td>NaN</td>\n",
       "      <td>NaN</td>\n",
       "      <td>NaN</td>\n",
       "      <td>NaN</td>\n",
       "      <td>NaN</td>\n",
       "    </tr>\n",
       "    <tr>\n",
       "      <th>1</th>\n",
       "      <td>LG (C=50)</td>\n",
       "      <td>NaN</td>\n",
       "      <td>NaN</td>\n",
       "      <td>NaN</td>\n",
       "      <td>NaN</td>\n",
       "      <td>NaN</td>\n",
       "    </tr>\n",
       "  </tbody>\n",
       "</table>\n",
       "</div>"
      ],
      "text/plain": [
       "  Classification Method Accuracy Precision Recall F1-Score ROC_AUC\n",
       "0            LG Default      NaN       NaN    NaN      NaN     NaN\n",
       "1             LG (C=50)      NaN       NaN    NaN      NaN     NaN"
      ]
     },
     "execution_count": 62,
     "metadata": {},
     "output_type": "execute_result"
    }
   ],
   "source": [
    "Scores['Classification Method'] = ['LG Default', 'LG (C=50)'] \n",
    "\n",
    "Scores"
   ]
  },
  {
   "cell_type": "code",
   "execution_count": 64,
   "metadata": {},
   "outputs": [
    {
     "name": "stdout",
     "output_type": "stream",
     "text": [
      "Accuracy: mean = 0.837419 \n",
      "Accuracy: mean = 0.853724 \n",
      "Accuracy: mean = 0.786813 \n",
      "Accuracy: mean = 0.815469 \n",
      "Accuracy: mean = 0.894043 \n"
     ]
    },
    {
     "data": {
      "text/html": [
       "<div>\n",
       "<style scoped>\n",
       "    .dataframe tbody tr th:only-of-type {\n",
       "        vertical-align: middle;\n",
       "    }\n",
       "\n",
       "    .dataframe tbody tr th {\n",
       "        vertical-align: top;\n",
       "    }\n",
       "\n",
       "    .dataframe thead th {\n",
       "        text-align: right;\n",
       "    }\n",
       "</style>\n",
       "<table border=\"1\" class=\"dataframe\">\n",
       "  <thead>\n",
       "    <tr style=\"text-align: right;\">\n",
       "      <th></th>\n",
       "      <th>Classification Method</th>\n",
       "      <th>Accuracy</th>\n",
       "      <th>Precision</th>\n",
       "      <th>Recall</th>\n",
       "      <th>F1-Score</th>\n",
       "      <th>ROC_AUC</th>\n",
       "    </tr>\n",
       "  </thead>\n",
       "  <tbody>\n",
       "    <tr>\n",
       "      <th>0</th>\n",
       "      <td>LG Default</td>\n",
       "      <td>0.837419</td>\n",
       "      <td>0.853724</td>\n",
       "      <td>0.786813</td>\n",
       "      <td>0.815469</td>\n",
       "      <td>0.894043</td>\n",
       "    </tr>\n",
       "    <tr>\n",
       "      <th>1</th>\n",
       "      <td>LG (C=50)</td>\n",
       "      <td>NaN</td>\n",
       "      <td>NaN</td>\n",
       "      <td>NaN</td>\n",
       "      <td>NaN</td>\n",
       "      <td>NaN</td>\n",
       "    </tr>\n",
       "  </tbody>\n",
       "</table>\n",
       "</div>"
      ],
      "text/plain": [
       "  Classification Method  Accuracy Precision    Recall  F1-Score   ROC_AUC\n",
       "0            LG Default  0.837419  0.853724  0.786813  0.815469  0.894043\n",
       "1             LG (C=50)       NaN       NaN       NaN       NaN       NaN"
      ]
     },
     "execution_count": 64,
     "metadata": {},
     "output_type": "execute_result"
    }
   ],
   "source": [
    "# Method- LG, C = Default\n",
    "Scores.loc[Scores[\"Classification Method\"]=='LG Default',\"Accuracy\"] = classification(X_data=X, cls_name=LogisticRegression(), scoring_method='accuracy')\n",
    "Scores.loc[Scores[\"Classification Method\"]=='LG Default',\"Precision\"] = classification(X_data=X, cls_name=LogisticRegression(), scoring_method='precision')\n",
    "Scores.loc[Scores[\"Classification Method\"]=='LG Default',\"Recall\"] = classification(X_data=X, cls_name=LogisticRegression(), scoring_method='recall')\n",
    "Scores.loc[Scores[\"Classification Method\"]=='LG Default',\"F1-Score\"] = classification(X_data=X, cls_name=LogisticRegression(), scoring_method='f1')\n",
    "Scores.loc[Scores[\"Classification Method\"]=='LG Default',\"ROC_AUC\"] = classification(X_data=X, cls_name=LogisticRegression(), scoring_method='roc_auc')\n",
    "Scores"
   ]
  },
  {
   "cell_type": "code",
   "execution_count": 65,
   "metadata": {},
   "outputs": [
    {
     "name": "stdout",
     "output_type": "stream",
     "text": [
      "Accuracy: mean = 0.838495 \n",
      "Accuracy: mean = 0.858793 \n",
      "Accuracy: mean = 0.784249 \n",
      "Accuracy: mean = 0.815746 \n",
      "Accuracy: mean = 0.891832 \n"
     ]
    },
    {
     "data": {
      "text/html": [
       "<div>\n",
       "<style scoped>\n",
       "    .dataframe tbody tr th:only-of-type {\n",
       "        vertical-align: middle;\n",
       "    }\n",
       "\n",
       "    .dataframe tbody tr th {\n",
       "        vertical-align: top;\n",
       "    }\n",
       "\n",
       "    .dataframe thead th {\n",
       "        text-align: right;\n",
       "    }\n",
       "</style>\n",
       "<table border=\"1\" class=\"dataframe\">\n",
       "  <thead>\n",
       "    <tr style=\"text-align: right;\">\n",
       "      <th></th>\n",
       "      <th>Classification Method</th>\n",
       "      <th>Accuracy</th>\n",
       "      <th>Precision</th>\n",
       "      <th>Recall</th>\n",
       "      <th>F1-Score</th>\n",
       "      <th>ROC_AUC</th>\n",
       "    </tr>\n",
       "  </thead>\n",
       "  <tbody>\n",
       "    <tr>\n",
       "      <th>0</th>\n",
       "      <td>LG Default</td>\n",
       "      <td>0.837419</td>\n",
       "      <td>0.853724</td>\n",
       "      <td>0.786813</td>\n",
       "      <td>0.815469</td>\n",
       "      <td>0.894043</td>\n",
       "    </tr>\n",
       "    <tr>\n",
       "      <th>1</th>\n",
       "      <td>LG (C=50)</td>\n",
       "      <td>0.838495</td>\n",
       "      <td>0.858793</td>\n",
       "      <td>0.784249</td>\n",
       "      <td>0.815746</td>\n",
       "      <td>0.891832</td>\n",
       "    </tr>\n",
       "  </tbody>\n",
       "</table>\n",
       "</div>"
      ],
      "text/plain": [
       "  Classification Method  Accuracy Precision    Recall  F1-Score   ROC_AUC\n",
       "0            LG Default  0.837419  0.853724  0.786813  0.815469  0.894043\n",
       "1             LG (C=50)  0.838495  0.858793  0.784249  0.815746  0.891832"
      ]
     },
     "execution_count": 65,
     "metadata": {},
     "output_type": "execute_result"
    }
   ],
   "source": [
    "# Method- LG, C = 50\n",
    "# Highest scores achieved for LG when C=50 (except Recall and ROC_AUC)\n",
    "\n",
    "Scores.loc[Scores[\"Classification Method\"]=='LG (C=50)',\"Accuracy\"] = classification(X_data=X, cls_name=LogisticRegression(C=50), scoring_method='accuracy')\n",
    "Scores.loc[Scores[\"Classification Method\"]=='LG (C=50)',\"Precision\"] = classification(X_data=X, cls_name=LogisticRegression(C=50), scoring_method='precision')\n",
    "Scores.loc[Scores[\"Classification Method\"]=='LG (C=50)',\"Recall\"] = classification(X_data=X, cls_name=LogisticRegression(C=50), scoring_method='recall')\n",
    "Scores.loc[Scores[\"Classification Method\"]=='LG (C=50)',\"F1-Score\"] = classification(X_data=X, cls_name=LogisticRegression(C=50), scoring_method='f1')\n",
    "Scores.loc[Scores[\"Classification Method\"]=='LG (C=50)',\"ROC_AUC\"] = classification(X_data=X, cls_name=LogisticRegression(C=50), scoring_method='roc_auc')\n",
    "Scores"
   ]
  },
  {
   "cell_type": "code",
   "execution_count": 66,
   "metadata": {},
   "outputs": [],
   "source": [
    "sc = StandardScaler()\n",
    "X_norm = pd.DataFrame(sc.fit_transform(X), columns = X.columns)"
   ]
  },
  {
   "cell_type": "code",
   "execution_count": 68,
   "metadata": {},
   "outputs": [
    {
     "data": {
      "text/html": [
       "<div>\n",
       "<style scoped>\n",
       "    .dataframe tbody tr th:only-of-type {\n",
       "        vertical-align: middle;\n",
       "    }\n",
       "\n",
       "    .dataframe tbody tr th {\n",
       "        vertical-align: top;\n",
       "    }\n",
       "\n",
       "    .dataframe thead th {\n",
       "        text-align: right;\n",
       "    }\n",
       "</style>\n",
       "<table border=\"1\" class=\"dataframe\">\n",
       "  <thead>\n",
       "    <tr style=\"text-align: right;\">\n",
       "      <th></th>\n",
       "      <th>Classification Method</th>\n",
       "      <th>Accuracy</th>\n",
       "      <th>Precision</th>\n",
       "      <th>Recall</th>\n",
       "      <th>F1-Score</th>\n",
       "      <th>ROC_AUC</th>\n",
       "    </tr>\n",
       "  </thead>\n",
       "  <tbody>\n",
       "  </tbody>\n",
       "</table>\n",
       "</div>"
      ],
      "text/plain": [
       "Empty DataFrame\n",
       "Columns: [Classification Method, Accuracy, Precision, Recall, F1-Score, ROC_AUC]\n",
       "Index: []"
      ]
     },
     "execution_count": 68,
     "metadata": {},
     "output_type": "execute_result"
    }
   ],
   "source": [
    "# Scores of Normalized Data Inputs\n",
    "\n",
    "ScoresNorm = pd.DataFrame(columns = ['Classification Method', 'Accuracy','Precision','Recall','F1-Score','ROC_AUC'])\n",
    "ScoresNorm"
   ]
  },
  {
   "cell_type": "code",
   "execution_count": 72,
   "metadata": {},
   "outputs": [
    {
     "data": {
      "text/html": [
       "<div>\n",
       "<style scoped>\n",
       "    .dataframe tbody tr th:only-of-type {\n",
       "        vertical-align: middle;\n",
       "    }\n",
       "\n",
       "    .dataframe tbody tr th {\n",
       "        vertical-align: top;\n",
       "    }\n",
       "\n",
       "    .dataframe thead th {\n",
       "        text-align: right;\n",
       "    }\n",
       "</style>\n",
       "<table border=\"1\" class=\"dataframe\">\n",
       "  <thead>\n",
       "    <tr style=\"text-align: right;\">\n",
       "      <th></th>\n",
       "      <th>Classification Method</th>\n",
       "      <th>Accuracy</th>\n",
       "      <th>Precision</th>\n",
       "      <th>Recall</th>\n",
       "      <th>F1-Score</th>\n",
       "      <th>ROC_AUC</th>\n",
       "    </tr>\n",
       "  </thead>\n",
       "  <tbody>\n",
       "    <tr>\n",
       "      <th>0</th>\n",
       "      <td>LG Default</td>\n",
       "      <td>0.829785</td>\n",
       "      <td>0.837664</td>\n",
       "      <td>0.789194</td>\n",
       "      <td>0.809117</td>\n",
       "      <td>0.898178</td>\n",
       "    </tr>\n",
       "    <tr>\n",
       "      <th>1</th>\n",
       "      <td>LG (C=0.01)</td>\n",
       "      <td>0.829785</td>\n",
       "      <td>0.835193</td>\n",
       "      <td>0.791575</td>\n",
       "      <td>0.809356</td>\n",
       "      <td>0.896429</td>\n",
       "    </tr>\n",
       "  </tbody>\n",
       "</table>\n",
       "</div>"
      ],
      "text/plain": [
       "  Classification Method  Accuracy Precision    Recall  F1-Score   ROC_AUC\n",
       "0            LG Default  0.829785  0.837664  0.789194  0.809117  0.898178\n",
       "1           LG (C=0.01)  0.829785  0.835193  0.791575  0.809356  0.896429"
      ]
     },
     "execution_count": 72,
     "metadata": {},
     "output_type": "execute_result"
    }
   ],
   "source": [
    "ScoresNorm['Classification Method'] = ['LG Default', 'LG (C=0.01)'] \n",
    "ScoresNorm"
   ]
  },
  {
   "cell_type": "markdown",
   "metadata": {},
   "source": [
    "### Method- LG, C = Default [on Normalized data]"
   ]
  },
  {
   "cell_type": "code",
   "execution_count": 73,
   "metadata": {},
   "outputs": [
    {
     "name": "stdout",
     "output_type": "stream",
     "text": [
      "Accuracy: mean = 0.829785 \n",
      "Accuracy: mean = 0.837664 \n",
      "Accuracy: mean = 0.789194 \n",
      "Accuracy: mean = 0.809117 \n",
      "Accuracy: mean = 0.898178 \n"
     ]
    },
    {
     "data": {
      "text/html": [
       "<div>\n",
       "<style scoped>\n",
       "    .dataframe tbody tr th:only-of-type {\n",
       "        vertical-align: middle;\n",
       "    }\n",
       "\n",
       "    .dataframe tbody tr th {\n",
       "        vertical-align: top;\n",
       "    }\n",
       "\n",
       "    .dataframe thead th {\n",
       "        text-align: right;\n",
       "    }\n",
       "</style>\n",
       "<table border=\"1\" class=\"dataframe\">\n",
       "  <thead>\n",
       "    <tr style=\"text-align: right;\">\n",
       "      <th></th>\n",
       "      <th>Classification Method</th>\n",
       "      <th>Accuracy</th>\n",
       "      <th>Precision</th>\n",
       "      <th>Recall</th>\n",
       "      <th>F1-Score</th>\n",
       "      <th>ROC_AUC</th>\n",
       "    </tr>\n",
       "  </thead>\n",
       "  <tbody>\n",
       "    <tr>\n",
       "      <th>0</th>\n",
       "      <td>LG Default</td>\n",
       "      <td>0.829785</td>\n",
       "      <td>0.837664</td>\n",
       "      <td>0.789194</td>\n",
       "      <td>0.809117</td>\n",
       "      <td>0.898178</td>\n",
       "    </tr>\n",
       "    <tr>\n",
       "      <th>1</th>\n",
       "      <td>LG (C=0.01)</td>\n",
       "      <td>0.829785</td>\n",
       "      <td>0.835193</td>\n",
       "      <td>0.791575</td>\n",
       "      <td>0.809356</td>\n",
       "      <td>0.896429</td>\n",
       "    </tr>\n",
       "  </tbody>\n",
       "</table>\n",
       "</div>"
      ],
      "text/plain": [
       "  Classification Method  Accuracy Precision    Recall  F1-Score   ROC_AUC\n",
       "0            LG Default  0.829785  0.837664  0.789194  0.809117  0.898178\n",
       "1           LG (C=0.01)  0.829785  0.835193  0.791575  0.809356  0.896429"
      ]
     },
     "execution_count": 73,
     "metadata": {},
     "output_type": "execute_result"
    }
   ],
   "source": [
    "ScoresNorm.loc[ScoresNorm[\"Classification Method\"]=='LG Default',\"Accuracy\"] = classification(X_data=X_norm, cls_name=LogisticRegression(), scoring_method='accuracy')\n",
    "ScoresNorm.loc[ScoresNorm[\"Classification Method\"]=='LG Default',\"Precision\"] = classification(X_data=X_norm, cls_name=LogisticRegression(), scoring_method='precision')\n",
    "ScoresNorm.loc[ScoresNorm[\"Classification Method\"]=='LG Default',\"Recall\"] = classification(X_data=X_norm, cls_name=LogisticRegression(), scoring_method='recall')\n",
    "ScoresNorm.loc[ScoresNorm[\"Classification Method\"]=='LG Default',\"F1-Score\"] = classification(X_data=X_norm, cls_name=LogisticRegression(), scoring_method='f1')\n",
    "ScoresNorm.loc[ScoresNorm[\"Classification Method\"]=='LG Default',\"ROC_AUC\"] = classification(X_data=X_norm, cls_name=LogisticRegression(), scoring_method='roc_auc')\n",
    "ScoresNorm"
   ]
  },
  {
   "cell_type": "markdown",
   "metadata": {},
   "source": [
    "### Method- LG, C = 0.01 [on Normalized data]"
   ]
  },
  {
   "cell_type": "code",
   "execution_count": 74,
   "metadata": {},
   "outputs": [
    {
     "name": "stdout",
     "output_type": "stream",
     "text": [
      "Accuracy: mean = 0.839462 \n",
      "Accuracy: mean = 0.876042 \n",
      "Accuracy: mean = 0.763004 \n",
      "Accuracy: mean = 0.810961 \n",
      "Accuracy: mean = 0.904939 \n"
     ]
    },
    {
     "data": {
      "text/html": [
       "<div>\n",
       "<style scoped>\n",
       "    .dataframe tbody tr th:only-of-type {\n",
       "        vertical-align: middle;\n",
       "    }\n",
       "\n",
       "    .dataframe tbody tr th {\n",
       "        vertical-align: top;\n",
       "    }\n",
       "\n",
       "    .dataframe thead th {\n",
       "        text-align: right;\n",
       "    }\n",
       "</style>\n",
       "<table border=\"1\" class=\"dataframe\">\n",
       "  <thead>\n",
       "    <tr style=\"text-align: right;\">\n",
       "      <th></th>\n",
       "      <th>Classification Method</th>\n",
       "      <th>Accuracy</th>\n",
       "      <th>Precision</th>\n",
       "      <th>Recall</th>\n",
       "      <th>F1-Score</th>\n",
       "      <th>ROC_AUC</th>\n",
       "    </tr>\n",
       "  </thead>\n",
       "  <tbody>\n",
       "    <tr>\n",
       "      <th>0</th>\n",
       "      <td>LG Default</td>\n",
       "      <td>0.829785</td>\n",
       "      <td>0.837664</td>\n",
       "      <td>0.789194</td>\n",
       "      <td>0.809117</td>\n",
       "      <td>0.898178</td>\n",
       "    </tr>\n",
       "    <tr>\n",
       "      <th>1</th>\n",
       "      <td>LG (C=0.01)</td>\n",
       "      <td>0.839462</td>\n",
       "      <td>0.876042</td>\n",
       "      <td>0.763004</td>\n",
       "      <td>0.810961</td>\n",
       "      <td>0.904939</td>\n",
       "    </tr>\n",
       "  </tbody>\n",
       "</table>\n",
       "</div>"
      ],
      "text/plain": [
       "  Classification Method  Accuracy Precision    Recall  F1-Score   ROC_AUC\n",
       "0            LG Default  0.829785  0.837664  0.789194  0.809117  0.898178\n",
       "1           LG (C=0.01)  0.839462  0.876042  0.763004  0.810961  0.904939"
      ]
     },
     "execution_count": 74,
     "metadata": {},
     "output_type": "execute_result"
    }
   ],
   "source": [
    "ScoresNorm.loc[ScoresNorm[\"Classification Method\"]=='LG (C=0.01)',\"Accuracy\"] = classification(X_data=X_norm, cls_name=LogisticRegression(C=0.01 ), scoring_method='accuracy')\n",
    "ScoresNorm.loc[ScoresNorm[\"Classification Method\"]=='LG (C=0.01)',\"Precision\"] = classification(X_data=X_norm, cls_name=LogisticRegression(C=0.01 ), scoring_method='precision')\n",
    "ScoresNorm.loc[ScoresNorm[\"Classification Method\"]=='LG (C=0.01)',\"Recall\"] = classification(X_data=X_norm, cls_name=LogisticRegression(C=0.01 ), scoring_method='recall')\n",
    "ScoresNorm.loc[ScoresNorm[\"Classification Method\"]=='LG (C=0.01)',\"F1-Score\"] = classification(X_data=X_norm, cls_name=LogisticRegression(C=0.01 ), scoring_method='f1')\n",
    "ScoresNorm.loc[ScoresNorm[\"Classification Method\"]=='LG (C=0.01)',\"ROC_AUC\"] = classification(X_data=X_norm, cls_name=LogisticRegression(C=0.01 ), scoring_method='roc_auc')\n",
    "ScoresNorm"
   ]
  },
  {
   "cell_type": "code",
   "execution_count": 75,
   "metadata": {},
   "outputs": [
    {
     "data": {
      "text/html": [
       "<div>\n",
       "<style scoped>\n",
       "    .dataframe tbody tr th:only-of-type {\n",
       "        vertical-align: middle;\n",
       "    }\n",
       "\n",
       "    .dataframe tbody tr th {\n",
       "        vertical-align: top;\n",
       "    }\n",
       "\n",
       "    .dataframe thead th {\n",
       "        text-align: right;\n",
       "    }\n",
       "</style>\n",
       "<table border=\"1\" class=\"dataframe\">\n",
       "  <thead>\n",
       "    <tr style=\"text-align: right;\">\n",
       "      <th></th>\n",
       "      <th>Classification Method</th>\n",
       "      <th>Accuracy</th>\n",
       "      <th>Precision</th>\n",
       "      <th>Recall</th>\n",
       "      <th>F1-Score</th>\n",
       "      <th>ROC_AUC</th>\n",
       "    </tr>\n",
       "  </thead>\n",
       "  <tbody>\n",
       "    <tr>\n",
       "      <th>0</th>\n",
       "      <td>LG Default</td>\n",
       "      <td>0.837419</td>\n",
       "      <td>0.853724</td>\n",
       "      <td>0.786813</td>\n",
       "      <td>0.815469</td>\n",
       "      <td>0.894043</td>\n",
       "    </tr>\n",
       "    <tr>\n",
       "      <th>1</th>\n",
       "      <td>LG (C=50)</td>\n",
       "      <td>0.838495</td>\n",
       "      <td>0.858793</td>\n",
       "      <td>0.784249</td>\n",
       "      <td>0.815746</td>\n",
       "      <td>0.891832</td>\n",
       "    </tr>\n",
       "  </tbody>\n",
       "</table>\n",
       "</div>"
      ],
      "text/plain": [
       "  Classification Method  Accuracy Precision    Recall  F1-Score   ROC_AUC\n",
       "0            LG Default  0.837419  0.853724  0.786813  0.815469  0.894043\n",
       "1             LG (C=50)  0.838495  0.858793  0.784249  0.815746  0.891832"
      ]
     },
     "execution_count": 75,
     "metadata": {},
     "output_type": "execute_result"
    }
   ],
   "source": [
    "Scores"
   ]
  },
  {
   "cell_type": "markdown",
   "metadata": {},
   "source": [
    "# LG (C=0.01) on Normalized data gave Best Accuracy So far"
   ]
  },
  {
   "cell_type": "markdown",
   "metadata": {},
   "source": [
    "### Subset of strongly correlated attributes"
   ]
  },
  {
   "cell_type": "code",
   "execution_count": 85,
   "metadata": {},
   "outputs": [],
   "source": [
    "# Creating feature subsets depending on highest correlation with target attribute\n",
    "# Strongly correlated attributes with target are selected\n",
    "\n",
    "subset1 = ['cp', 'thalach', 'exang', 'oldpeak']\n",
    "subset2 = ['cp', 'exang']\n",
    "X4 = X[subset1]\n",
    "X2 = X[subset2]"
   ]
  },
  {
   "cell_type": "code",
   "execution_count": 86,
   "metadata": {},
   "outputs": [
    {
     "name": "stdout",
     "output_type": "stream",
     "text": [
      "Accuracy: mean = 0.787455 \n"
     ]
    },
    {
     "data": {
      "text/plain": [
       "0.7874551971326166"
      ]
     },
     "execution_count": 86,
     "metadata": {},
     "output_type": "execute_result"
    }
   ],
   "source": [
    "# Logistic Regression using 4 strongly correlated attributes (Scores Not Good)\n",
    "\n",
    "classification(X_data=X4, cls_name=LogisticRegression(C=100), scoring_method='accuracy')"
   ]
  },
  {
   "cell_type": "markdown",
   "metadata": {},
   "source": [
    "### Subset of strongly correlated attributes on Normalized Data"
   ]
  },
  {
   "cell_type": "code",
   "execution_count": 87,
   "metadata": {},
   "outputs": [
    {
     "data": {
      "text/html": [
       "<div>\n",
       "<style scoped>\n",
       "    .dataframe tbody tr th:only-of-type {\n",
       "        vertical-align: middle;\n",
       "    }\n",
       "\n",
       "    .dataframe tbody tr th {\n",
       "        vertical-align: top;\n",
       "    }\n",
       "\n",
       "    .dataframe thead th {\n",
       "        text-align: right;\n",
       "    }\n",
       "</style>\n",
       "<table border=\"1\" class=\"dataframe\">\n",
       "  <thead>\n",
       "    <tr style=\"text-align: right;\">\n",
       "      <th></th>\n",
       "      <th>cp</th>\n",
       "      <th>thalach</th>\n",
       "      <th>exang</th>\n",
       "      <th>oldpeak</th>\n",
       "    </tr>\n",
       "  </thead>\n",
       "  <tbody>\n",
       "    <tr>\n",
       "      <th>0</th>\n",
       "      <td>-2.251775</td>\n",
       "      <td>0.017197</td>\n",
       "      <td>-0.696631</td>\n",
       "      <td>1.087338</td>\n",
       "    </tr>\n",
       "    <tr>\n",
       "      <th>1</th>\n",
       "      <td>0.877985</td>\n",
       "      <td>-1.821905</td>\n",
       "      <td>1.435481</td>\n",
       "      <td>0.397182</td>\n",
       "    </tr>\n",
       "    <tr>\n",
       "      <th>2</th>\n",
       "      <td>0.877985</td>\n",
       "      <td>-0.902354</td>\n",
       "      <td>1.435481</td>\n",
       "      <td>1.346147</td>\n",
       "    </tr>\n",
       "    <tr>\n",
       "      <th>3</th>\n",
       "      <td>-0.165268</td>\n",
       "      <td>1.637359</td>\n",
       "      <td>-0.696631</td>\n",
       "      <td>2.122573</td>\n",
       "    </tr>\n",
       "    <tr>\n",
       "      <th>4</th>\n",
       "      <td>-1.208521</td>\n",
       "      <td>0.980537</td>\n",
       "      <td>-0.696631</td>\n",
       "      <td>0.310912</td>\n",
       "    </tr>\n",
       "    <tr>\n",
       "      <th>...</th>\n",
       "      <td>...</td>\n",
       "      <td>...</td>\n",
       "      <td>...</td>\n",
       "      <td>...</td>\n",
       "    </tr>\n",
       "    <tr>\n",
       "      <th>298</th>\n",
       "      <td>-2.251775</td>\n",
       "      <td>-0.770990</td>\n",
       "      <td>-0.696631</td>\n",
       "      <td>0.138373</td>\n",
       "    </tr>\n",
       "    <tr>\n",
       "      <th>299</th>\n",
       "      <td>0.877985</td>\n",
       "      <td>-0.376896</td>\n",
       "      <td>-0.696631</td>\n",
       "      <td>2.036303</td>\n",
       "    </tr>\n",
       "    <tr>\n",
       "      <th>300</th>\n",
       "      <td>0.877985</td>\n",
       "      <td>-1.515388</td>\n",
       "      <td>1.435481</td>\n",
       "      <td>0.138373</td>\n",
       "    </tr>\n",
       "    <tr>\n",
       "      <th>301</th>\n",
       "      <td>-1.208521</td>\n",
       "      <td>1.068113</td>\n",
       "      <td>-0.696631</td>\n",
       "      <td>-0.896862</td>\n",
       "    </tr>\n",
       "    <tr>\n",
       "      <th>302</th>\n",
       "      <td>-0.165268</td>\n",
       "      <td>1.024325</td>\n",
       "      <td>-0.696631</td>\n",
       "      <td>-0.896862</td>\n",
       "    </tr>\n",
       "  </tbody>\n",
       "</table>\n",
       "<p>303 rows × 4 columns</p>\n",
       "</div>"
      ],
      "text/plain": [
       "           cp   thalach     exang   oldpeak\n",
       "0   -2.251775  0.017197 -0.696631  1.087338\n",
       "1    0.877985 -1.821905  1.435481  0.397182\n",
       "2    0.877985 -0.902354  1.435481  1.346147\n",
       "3   -0.165268  1.637359 -0.696631  2.122573\n",
       "4   -1.208521  0.980537 -0.696631  0.310912\n",
       "..        ...       ...       ...       ...\n",
       "298 -2.251775 -0.770990 -0.696631  0.138373\n",
       "299  0.877985 -0.376896 -0.696631  2.036303\n",
       "300  0.877985 -1.515388  1.435481  0.138373\n",
       "301 -1.208521  1.068113 -0.696631 -0.896862\n",
       "302 -0.165268  1.024325 -0.696631 -0.896862\n",
       "\n",
       "[303 rows x 4 columns]"
      ]
     },
     "execution_count": 87,
     "metadata": {},
     "output_type": "execute_result"
    }
   ],
   "source": [
    "X4_norm = X_norm[subset1]\n",
    "X2_norm = X_norm[subset2]\n",
    "X4_norm"
   ]
  },
  {
   "cell_type": "code",
   "execution_count": 90,
   "metadata": {},
   "outputs": [
    {
     "name": "stdout",
     "output_type": "stream",
     "text": [
      "Accuracy: mean = 0.790860 \n"
     ]
    },
    {
     "data": {
      "text/plain": [
       "0.7908602150537635"
      ]
     },
     "execution_count": 90,
     "metadata": {},
     "output_type": "execute_result"
    }
   ],
   "source": [
    "# Logistic Regression using 4 strongly correlated attributes on Normalized Data (Scores Not Good)\n",
    "\n",
    "classification(X_data=X4_norm, cls_name=LogisticRegression(C=0.01), scoring_method='accuracy')"
   ]
  },
  {
   "cell_type": "markdown",
   "metadata": {},
   "source": [
    "# Feature Subset Selection using RFE "
   ]
  },
  {
   "cell_type": "code",
   "execution_count": 215,
   "metadata": {},
   "outputs": [
    {
     "data": {
      "text/html": [
       "<div>\n",
       "<style scoped>\n",
       "    .dataframe tbody tr th:only-of-type {\n",
       "        vertical-align: middle;\n",
       "    }\n",
       "\n",
       "    .dataframe tbody tr th {\n",
       "        vertical-align: top;\n",
       "    }\n",
       "\n",
       "    .dataframe thead th {\n",
       "        text-align: right;\n",
       "    }\n",
       "</style>\n",
       "<table border=\"1\" class=\"dataframe\">\n",
       "  <thead>\n",
       "    <tr style=\"text-align: right;\">\n",
       "      <th></th>\n",
       "      <th>Classification_Method</th>\n",
       "      <th>#Features</th>\n",
       "      <th>Feature_Subset</th>\n",
       "      <th>accuracy</th>\n",
       "      <th>precision</th>\n",
       "      <th>recall</th>\n",
       "      <th>f1</th>\n",
       "      <th>roc_auc</th>\n",
       "    </tr>\n",
       "  </thead>\n",
       "  <tbody>\n",
       "    <tr>\n",
       "      <th>0</th>\n",
       "      <td>LR</td>\n",
       "      <td>9</td>\n",
       "      <td>NaN</td>\n",
       "      <td>NaN</td>\n",
       "      <td>NaN</td>\n",
       "      <td>NaN</td>\n",
       "      <td>NaN</td>\n",
       "      <td>NaN</td>\n",
       "    </tr>\n",
       "    <tr>\n",
       "      <th>1</th>\n",
       "      <td>LR</td>\n",
       "      <td>10</td>\n",
       "      <td>NaN</td>\n",
       "      <td>NaN</td>\n",
       "      <td>NaN</td>\n",
       "      <td>NaN</td>\n",
       "      <td>NaN</td>\n",
       "      <td>NaN</td>\n",
       "    </tr>\n",
       "    <tr>\n",
       "      <th>2</th>\n",
       "      <td>LR</td>\n",
       "      <td>11</td>\n",
       "      <td>NaN</td>\n",
       "      <td>NaN</td>\n",
       "      <td>NaN</td>\n",
       "      <td>NaN</td>\n",
       "      <td>NaN</td>\n",
       "      <td>NaN</td>\n",
       "    </tr>\n",
       "    <tr>\n",
       "      <th>3</th>\n",
       "      <td>LR</td>\n",
       "      <td>12</td>\n",
       "      <td>NaN</td>\n",
       "      <td>NaN</td>\n",
       "      <td>NaN</td>\n",
       "      <td>NaN</td>\n",
       "      <td>NaN</td>\n",
       "      <td>NaN</td>\n",
       "    </tr>\n",
       "  </tbody>\n",
       "</table>\n",
       "</div>"
      ],
      "text/plain": [
       "  Classification_Method  #Features Feature_Subset accuracy precision recall  \\\n",
       "0                    LR          9            NaN      NaN       NaN    NaN   \n",
       "1                    LR         10            NaN      NaN       NaN    NaN   \n",
       "2                    LR         11            NaN      NaN       NaN    NaN   \n",
       "3                    LR         12            NaN      NaN       NaN    NaN   \n",
       "\n",
       "    f1 roc_auc  \n",
       "0  NaN     NaN  \n",
       "1  NaN     NaN  \n",
       "2  NaN     NaN  \n",
       "3  NaN     NaN  "
      ]
     },
     "execution_count": 215,
     "metadata": {},
     "output_type": "execute_result"
    }
   ],
   "source": [
    "Scores_RFE = pd.DataFrame(columns = ['Classification_Method','#Features','Feature_Subset', 'accuracy','precision','recall','f1','roc_auc'])\n",
    "Scores_RFE['#Features'] = [9,10,11,12]\n",
    "Scores_RFE['Classification_Method'] = 'LR'\n",
    "# Scores_RFE.fillna(0)\n",
    "\n",
    "# Scores_RFE[(Scores_RFE[\"#Features\"]==9) & ( Scores_RFE[\"Classification Method\"]=='LR')].Accuracy\n"
   ]
  },
  {
   "cell_type": "code",
   "execution_count": 302,
   "metadata": {},
   "outputs": [],
   "source": [
    "def apply_RFE(n,measure):\n",
    "\n",
    "    subset_RFE = []\n",
    "\n",
    "    # define RFE\n",
    "    rfe = RFE(estimator = LogisticRegression(), n_features_to_select = n)\n",
    "\n",
    "    # fit RFE\n",
    "    rfe.fit(X, y)\n",
    "\n",
    "    # summarize all features\n",
    "\n",
    "    for i in range(X.shape[1]):\n",
    "        if rfe.ranking_[i] == 1 :\n",
    "#             print(f'Column: {X.columns[i]}, Selected={rfe.support_[i]}, Rank: {rfe.ranking_[i]}')\n",
    "            subset_RFE.append(X.columns[i])\n",
    "            \n",
    "    #         subset_RFE_9\n",
    "\n",
    "            X_RFE = X[subset_RFE]\n",
    "\n",
    "    #         X_RFE_9\n",
    "#     print(subset_RFE)\n",
    "    Scores_RFE_C10.loc[(Scores_RFE_C10['#Features'] == n) & (Scores_RFE_C10[\"Classification_Method\"]=='LR (C=10)'),measure] = classification(X_data=X_RFE, cls_name=LogisticRegression(C=10), scoring_method=measure)\n",
    "#     Scores_RFE_C10.loc[(Scores_RFE_C10['#Features'] == n) & (Scores_RFE_C10[\"Classification_Method\"]=='LR (C=10)'),\"Feature_Subset\"] = str(subset_RFE)\n",
    "    #     Scores_RFE"
   ]
  },
  {
   "cell_type": "markdown",
   "metadata": {},
   "source": [
    "### LR Default with RFE"
   ]
  },
  {
   "cell_type": "code",
   "execution_count": 304,
   "metadata": {},
   "outputs": [
    {
     "data": {
      "text/plain": [
       "[None, None, None, None]"
      ]
     },
     "execution_count": 304,
     "metadata": {},
     "output_type": "execute_result"
    }
   ],
   "source": [
    "# list(map(apply_RFE, [9,10,11,12], ['accuracy','accuracy','accuracy','accuracy']))\n",
    "list(map(apply_RFE, [9,10,11,12], ['precision','precision','precision','precision']))\n",
    "list(map(apply_RFE, [9,10,11,12], ['recall','recall','recall','recall']))\n",
    "list(map(apply_RFE, [9,10,11,12], ['f1','f1','f1','f1']))\n",
    "list(map(apply_RFE, [9,10,11,12], ['roc_auc','roc_auc','roc_auc','roc_auc']))\n",
    "\n",
    "\n",
    "# apply_RFE(9,'accuracy')\n"
   ]
  },
  {
   "cell_type": "code",
   "execution_count": 254,
   "metadata": {},
   "outputs": [
    {
     "data": {
      "text/html": [
       "<div>\n",
       "<style scoped>\n",
       "    .dataframe tbody tr th:only-of-type {\n",
       "        vertical-align: middle;\n",
       "    }\n",
       "\n",
       "    .dataframe tbody tr th {\n",
       "        vertical-align: top;\n",
       "    }\n",
       "\n",
       "    .dataframe thead th {\n",
       "        text-align: right;\n",
       "    }\n",
       "</style>\n",
       "<table border=\"1\" class=\"dataframe\">\n",
       "  <thead>\n",
       "    <tr style=\"text-align: right;\">\n",
       "      <th></th>\n",
       "      <th>Classification_Method</th>\n",
       "      <th>#Features</th>\n",
       "      <th>Feature_Subset</th>\n",
       "      <th>accuracy</th>\n",
       "      <th>precision</th>\n",
       "      <th>recall</th>\n",
       "      <th>f1</th>\n",
       "      <th>roc_auc</th>\n",
       "    </tr>\n",
       "  </thead>\n",
       "  <tbody>\n",
       "    <tr>\n",
       "      <th>0</th>\n",
       "      <td>LR</td>\n",
       "      <td>9</td>\n",
       "      <td>['sex', 'cp', 'fbs', 'restecg', 'exang', 'oldp...</td>\n",
       "      <td>0.842903</td>\n",
       "      <td>0.851052</td>\n",
       "      <td>0.80348</td>\n",
       "      <td>0.824112</td>\n",
       "      <td>0.898939</td>\n",
       "    </tr>\n",
       "    <tr>\n",
       "      <th>1</th>\n",
       "      <td>LR</td>\n",
       "      <td>10</td>\n",
       "      <td>['sex', 'cp', 'fbs', 'restecg', 'thalach', 'ex...</td>\n",
       "      <td>0.842903</td>\n",
       "      <td>0.856582</td>\n",
       "      <td>0.798718</td>\n",
       "      <td>0.823234</td>\n",
       "      <td>0.897391</td>\n",
       "    </tr>\n",
       "    <tr>\n",
       "      <th>2</th>\n",
       "      <td>LR</td>\n",
       "      <td>11</td>\n",
       "      <td>['age', 'sex', 'cp', 'fbs', 'restecg', 'thalac...</td>\n",
       "      <td>0.842903</td>\n",
       "      <td>0.858667</td>\n",
       "      <td>0.796337</td>\n",
       "      <td>0.822715</td>\n",
       "      <td>0.894613</td>\n",
       "    </tr>\n",
       "    <tr>\n",
       "      <th>3</th>\n",
       "      <td>LR</td>\n",
       "      <td>12</td>\n",
       "      <td>['age', 'sex', 'cp', 'trestbps', 'fbs', 'reste...</td>\n",
       "      <td>0.842939</td>\n",
       "      <td>0.865375</td>\n",
       "      <td>0.786813</td>\n",
       "      <td>0.820948</td>\n",
       "      <td>0.895699</td>\n",
       "    </tr>\n",
       "  </tbody>\n",
       "</table>\n",
       "</div>"
      ],
      "text/plain": [
       "  Classification_Method  #Features  \\\n",
       "0                    LR          9   \n",
       "1                    LR         10   \n",
       "2                    LR         11   \n",
       "3                    LR         12   \n",
       "\n",
       "                                      Feature_Subset  accuracy precision  \\\n",
       "0  ['sex', 'cp', 'fbs', 'restecg', 'exang', 'oldp...  0.842903  0.851052   \n",
       "1  ['sex', 'cp', 'fbs', 'restecg', 'thalach', 'ex...  0.842903  0.856582   \n",
       "2  ['age', 'sex', 'cp', 'fbs', 'restecg', 'thalac...  0.842903  0.858667   \n",
       "3  ['age', 'sex', 'cp', 'trestbps', 'fbs', 'reste...  0.842939  0.865375   \n",
       "\n",
       "     recall        f1   roc_auc  \n",
       "0   0.80348  0.824112  0.898939  \n",
       "1  0.798718  0.823234  0.897391  \n",
       "2  0.796337  0.822715  0.894613  \n",
       "3  0.786813  0.820948  0.895699  "
      ]
     },
     "execution_count": 254,
     "metadata": {},
     "output_type": "execute_result"
    }
   ],
   "source": [
    "Scores_RFE\n"
   ]
  },
  {
   "cell_type": "code",
   "execution_count": null,
   "metadata": {},
   "outputs": [],
   "source": [
    "# ['sex', 'cp', 'fbs', 'restecg', 'exang', 'oldpeak', 'slope', 'ca', 'thal']\n",
    "# ['sex', 'cp', 'fbs', 'restecg', 'thalach', 'exang', 'oldpeak', 'slope', 'ca', 'thal']\n",
    "# ['age', 'sex', 'cp', 'fbs', 'restecg', 'thalach', 'exang', 'oldpeak', 'slope', 'ca', 'thal']\n",
    "# ['age', 'sex', 'cp', 'trestbps', 'fbs', 'restecg', 'thalach', 'exang', 'oldpeak', 'slope', 'ca', 'thal']"
   ]
  },
  {
   "cell_type": "markdown",
   "metadata": {},
   "source": [
    "### LR (C=100) with RFE"
   ]
  },
  {
   "cell_type": "code",
   "execution_count": 278,
   "metadata": {},
   "outputs": [
    {
     "data": {
      "text/html": [
       "<div>\n",
       "<style scoped>\n",
       "    .dataframe tbody tr th:only-of-type {\n",
       "        vertical-align: middle;\n",
       "    }\n",
       "\n",
       "    .dataframe tbody tr th {\n",
       "        vertical-align: top;\n",
       "    }\n",
       "\n",
       "    .dataframe thead th {\n",
       "        text-align: right;\n",
       "    }\n",
       "</style>\n",
       "<table border=\"1\" class=\"dataframe\">\n",
       "  <thead>\n",
       "    <tr style=\"text-align: right;\">\n",
       "      <th></th>\n",
       "      <th>Classification_Method</th>\n",
       "      <th>#Features</th>\n",
       "      <th>Feature_Subset</th>\n",
       "      <th>accuracy</th>\n",
       "      <th>precision</th>\n",
       "      <th>recall</th>\n",
       "      <th>f1</th>\n",
       "      <th>roc_auc</th>\n",
       "    </tr>\n",
       "  </thead>\n",
       "  <tbody>\n",
       "    <tr>\n",
       "      <th>0</th>\n",
       "      <td>LR (C=100)</td>\n",
       "      <td>9</td>\n",
       "      <td>NaN</td>\n",
       "      <td>NaN</td>\n",
       "      <td>NaN</td>\n",
       "      <td>NaN</td>\n",
       "      <td>NaN</td>\n",
       "      <td>NaN</td>\n",
       "    </tr>\n",
       "    <tr>\n",
       "      <th>1</th>\n",
       "      <td>LR (C=100)</td>\n",
       "      <td>10</td>\n",
       "      <td>NaN</td>\n",
       "      <td>NaN</td>\n",
       "      <td>NaN</td>\n",
       "      <td>NaN</td>\n",
       "      <td>NaN</td>\n",
       "      <td>NaN</td>\n",
       "    </tr>\n",
       "    <tr>\n",
       "      <th>2</th>\n",
       "      <td>LR (C=100)</td>\n",
       "      <td>11</td>\n",
       "      <td>NaN</td>\n",
       "      <td>NaN</td>\n",
       "      <td>NaN</td>\n",
       "      <td>NaN</td>\n",
       "      <td>NaN</td>\n",
       "      <td>NaN</td>\n",
       "    </tr>\n",
       "    <tr>\n",
       "      <th>3</th>\n",
       "      <td>LR (C=100)</td>\n",
       "      <td>12</td>\n",
       "      <td>NaN</td>\n",
       "      <td>NaN</td>\n",
       "      <td>NaN</td>\n",
       "      <td>NaN</td>\n",
       "      <td>NaN</td>\n",
       "      <td>NaN</td>\n",
       "    </tr>\n",
       "  </tbody>\n",
       "</table>\n",
       "</div>"
      ],
      "text/plain": [
       "  Classification_Method  #Features Feature_Subset accuracy precision recall  \\\n",
       "0            LR (C=100)          9            NaN      NaN       NaN    NaN   \n",
       "1            LR (C=100)         10            NaN      NaN       NaN    NaN   \n",
       "2            LR (C=100)         11            NaN      NaN       NaN    NaN   \n",
       "3            LR (C=100)         12            NaN      NaN       NaN    NaN   \n",
       "\n",
       "    f1 roc_auc  \n",
       "0  NaN     NaN  \n",
       "1  NaN     NaN  \n",
       "2  NaN     NaN  \n",
       "3  NaN     NaN  "
      ]
     },
     "execution_count": 278,
     "metadata": {},
     "output_type": "execute_result"
    }
   ],
   "source": [
    "Scores_RFE_C = pd.DataFrame(columns = ['Classification_Method','#Features','Feature_Subset', 'accuracy','precision','recall','f1','roc_auc'])\n",
    "Scores_RFE_C['#Features'] = [9,10,11,12]\n",
    "Scores_RFE_C['Classification_Method'] = 'LR (C=100)'\n",
    "Scores_RFE_C"
   ]
  },
  {
   "cell_type": "code",
   "execution_count": 288,
   "metadata": {},
   "outputs": [
    {
     "data": {
      "text/html": [
       "<div>\n",
       "<style scoped>\n",
       "    .dataframe tbody tr th:only-of-type {\n",
       "        vertical-align: middle;\n",
       "    }\n",
       "\n",
       "    .dataframe tbody tr th {\n",
       "        vertical-align: top;\n",
       "    }\n",
       "\n",
       "    .dataframe thead th {\n",
       "        text-align: right;\n",
       "    }\n",
       "</style>\n",
       "<table border=\"1\" class=\"dataframe\">\n",
       "  <thead>\n",
       "    <tr style=\"text-align: right;\">\n",
       "      <th></th>\n",
       "      <th>Classification_Method</th>\n",
       "      <th>#Features</th>\n",
       "      <th>Feature_Subset</th>\n",
       "      <th>accuracy</th>\n",
       "      <th>precision</th>\n",
       "      <th>recall</th>\n",
       "      <th>f1</th>\n",
       "      <th>roc_auc</th>\n",
       "    </tr>\n",
       "  </thead>\n",
       "  <tbody>\n",
       "    <tr>\n",
       "      <th>0</th>\n",
       "      <td>LR (C=100)</td>\n",
       "      <td>9</td>\n",
       "      <td>['sex', 'cp', 'fbs', 'restecg', 'exang', 'oldp...</td>\n",
       "      <td>0.839677</td>\n",
       "      <td>0.846099</td>\n",
       "      <td>0.801099</td>\n",
       "      <td>0.820369</td>\n",
       "      <td>0.898064</td>\n",
       "    </tr>\n",
       "    <tr>\n",
       "      <th>1</th>\n",
       "      <td>LR (C=100)</td>\n",
       "      <td>10</td>\n",
       "      <td>['sex', 'cp', 'fbs', 'restecg', 'thalach', 'ex...</td>\n",
       "      <td>0.841864</td>\n",
       "      <td>0.851911</td>\n",
       "      <td>0.801099</td>\n",
       "      <td>0.822538</td>\n",
       "      <td>0.897742</td>\n",
       "    </tr>\n",
       "    <tr>\n",
       "      <th>2</th>\n",
       "      <td>LR (C=100)</td>\n",
       "      <td>11</td>\n",
       "      <td>['age', 'sex', 'cp', 'fbs', 'restecg', 'thalac...</td>\n",
       "      <td>0.847276</td>\n",
       "      <td>0.863163</td>\n",
       "      <td>0.801099</td>\n",
       "      <td>0.827702</td>\n",
       "      <td>0.894818</td>\n",
       "    </tr>\n",
       "    <tr>\n",
       "      <th>3</th>\n",
       "      <td>LR (C=100)</td>\n",
       "      <td>12</td>\n",
       "      <td>['age', 'sex', 'cp', 'trestbps', 'fbs', 'reste...</td>\n",
       "      <td>0.840753</td>\n",
       "      <td>0.859525</td>\n",
       "      <td>0.789194</td>\n",
       "      <td>0.81938</td>\n",
       "      <td>0.895712</td>\n",
       "    </tr>\n",
       "  </tbody>\n",
       "</table>\n",
       "</div>"
      ],
      "text/plain": [
       "  Classification_Method  #Features  \\\n",
       "0            LR (C=100)          9   \n",
       "1            LR (C=100)         10   \n",
       "2            LR (C=100)         11   \n",
       "3            LR (C=100)         12   \n",
       "\n",
       "                                      Feature_Subset  accuracy precision  \\\n",
       "0  ['sex', 'cp', 'fbs', 'restecg', 'exang', 'oldp...  0.839677  0.846099   \n",
       "1  ['sex', 'cp', 'fbs', 'restecg', 'thalach', 'ex...  0.841864  0.851911   \n",
       "2  ['age', 'sex', 'cp', 'fbs', 'restecg', 'thalac...  0.847276  0.863163   \n",
       "3  ['age', 'sex', 'cp', 'trestbps', 'fbs', 'reste...  0.840753  0.859525   \n",
       "\n",
       "     recall        f1   roc_auc  \n",
       "0  0.801099  0.820369  0.898064  \n",
       "1  0.801099  0.822538  0.897742  \n",
       "2  0.801099  0.827702  0.894818  \n",
       "3  0.789194   0.81938  0.895712  "
      ]
     },
     "execution_count": 288,
     "metadata": {},
     "output_type": "execute_result"
    }
   ],
   "source": [
    "Scores_RFE_C"
   ]
  },
  {
   "cell_type": "markdown",
   "metadata": {},
   "source": [
    "### LR (C=10) with RFE"
   ]
  },
  {
   "cell_type": "code",
   "execution_count": 301,
   "metadata": {},
   "outputs": [
    {
     "data": {
      "text/html": [
       "<div>\n",
       "<style scoped>\n",
       "    .dataframe tbody tr th:only-of-type {\n",
       "        vertical-align: middle;\n",
       "    }\n",
       "\n",
       "    .dataframe tbody tr th {\n",
       "        vertical-align: top;\n",
       "    }\n",
       "\n",
       "    .dataframe thead th {\n",
       "        text-align: right;\n",
       "    }\n",
       "</style>\n",
       "<table border=\"1\" class=\"dataframe\">\n",
       "  <thead>\n",
       "    <tr style=\"text-align: right;\">\n",
       "      <th></th>\n",
       "      <th>Classification_Method</th>\n",
       "      <th>#Features</th>\n",
       "      <th>Feature_Subset</th>\n",
       "      <th>accuracy</th>\n",
       "      <th>precision</th>\n",
       "      <th>recall</th>\n",
       "      <th>f1</th>\n",
       "      <th>roc_auc</th>\n",
       "    </tr>\n",
       "  </thead>\n",
       "  <tbody>\n",
       "    <tr>\n",
       "      <th>0</th>\n",
       "      <td>LR (C=10)</td>\n",
       "      <td>9</td>\n",
       "      <td>NaN</td>\n",
       "      <td>NaN</td>\n",
       "      <td>NaN</td>\n",
       "      <td>NaN</td>\n",
       "      <td>NaN</td>\n",
       "      <td>NaN</td>\n",
       "    </tr>\n",
       "    <tr>\n",
       "      <th>1</th>\n",
       "      <td>LR (C=10)</td>\n",
       "      <td>10</td>\n",
       "      <td>NaN</td>\n",
       "      <td>NaN</td>\n",
       "      <td>NaN</td>\n",
       "      <td>NaN</td>\n",
       "      <td>NaN</td>\n",
       "      <td>NaN</td>\n",
       "    </tr>\n",
       "    <tr>\n",
       "      <th>2</th>\n",
       "      <td>LR (C=10)</td>\n",
       "      <td>11</td>\n",
       "      <td>NaN</td>\n",
       "      <td>NaN</td>\n",
       "      <td>NaN</td>\n",
       "      <td>NaN</td>\n",
       "      <td>NaN</td>\n",
       "      <td>NaN</td>\n",
       "    </tr>\n",
       "    <tr>\n",
       "      <th>3</th>\n",
       "      <td>LR (C=10)</td>\n",
       "      <td>12</td>\n",
       "      <td>NaN</td>\n",
       "      <td>NaN</td>\n",
       "      <td>NaN</td>\n",
       "      <td>NaN</td>\n",
       "      <td>NaN</td>\n",
       "      <td>NaN</td>\n",
       "    </tr>\n",
       "  </tbody>\n",
       "</table>\n",
       "</div>"
      ],
      "text/plain": [
       "  Classification_Method  #Features Feature_Subset accuracy precision recall  \\\n",
       "0             LR (C=10)          9            NaN      NaN       NaN    NaN   \n",
       "1             LR (C=10)         10            NaN      NaN       NaN    NaN   \n",
       "2             LR (C=10)         11            NaN      NaN       NaN    NaN   \n",
       "3             LR (C=10)         12            NaN      NaN       NaN    NaN   \n",
       "\n",
       "    f1 roc_auc  \n",
       "0  NaN     NaN  \n",
       "1  NaN     NaN  \n",
       "2  NaN     NaN  \n",
       "3  NaN     NaN  "
      ]
     },
     "execution_count": 301,
     "metadata": {},
     "output_type": "execute_result"
    }
   ],
   "source": [
    "Scores_RFE_C10 = pd.DataFrame(columns = ['Classification_Method','#Features','Feature_Subset', 'accuracy','precision','recall','f1','roc_auc'])\n",
    "Scores_RFE_C10['#Features'] = [9,10,11,12]\n",
    "Scores_RFE_C10['Classification_Method'] = 'LR (C=10)'\n"
   ]
  },
  {
   "cell_type": "code",
   "execution_count": 305,
   "metadata": {},
   "outputs": [
    {
     "data": {
      "text/html": [
       "<div>\n",
       "<style scoped>\n",
       "    .dataframe tbody tr th:only-of-type {\n",
       "        vertical-align: middle;\n",
       "    }\n",
       "\n",
       "    .dataframe tbody tr th {\n",
       "        vertical-align: top;\n",
       "    }\n",
       "\n",
       "    .dataframe thead th {\n",
       "        text-align: right;\n",
       "    }\n",
       "</style>\n",
       "<table border=\"1\" class=\"dataframe\">\n",
       "  <thead>\n",
       "    <tr style=\"text-align: right;\">\n",
       "      <th></th>\n",
       "      <th>Classification_Method</th>\n",
       "      <th>#Features</th>\n",
       "      <th>Feature_Subset</th>\n",
       "      <th>accuracy</th>\n",
       "      <th>precision</th>\n",
       "      <th>recall</th>\n",
       "      <th>f1</th>\n",
       "      <th>roc_auc</th>\n",
       "    </tr>\n",
       "  </thead>\n",
       "  <tbody>\n",
       "    <tr>\n",
       "      <th>0</th>\n",
       "      <td>LR (C=10)</td>\n",
       "      <td>9</td>\n",
       "      <td>['sex', 'cp', 'fbs', 'restecg', 'exang', 'oldp...</td>\n",
       "      <td>0.840753</td>\n",
       "      <td>0.848163</td>\n",
       "      <td>0.801099</td>\n",
       "      <td>0.821437</td>\n",
       "      <td>0.897775</td>\n",
       "    </tr>\n",
       "    <tr>\n",
       "      <th>1</th>\n",
       "      <td>LR (C=10)</td>\n",
       "      <td>10</td>\n",
       "      <td>['sex', 'cp', 'fbs', 'restecg', 'thalach', 'ex...</td>\n",
       "      <td>0.841935</td>\n",
       "      <td>0.855239</td>\n",
       "      <td>0.798718</td>\n",
       "      <td>0.822366</td>\n",
       "      <td>0.897553</td>\n",
       "    </tr>\n",
       "    <tr>\n",
       "      <th>2</th>\n",
       "      <td>LR (C=10)</td>\n",
       "      <td>11</td>\n",
       "      <td>['age', 'sex', 'cp', 'fbs', 'restecg', 'thalac...</td>\n",
       "      <td>0.847312</td>\n",
       "      <td>0.863826</td>\n",
       "      <td>0.801099</td>\n",
       "      <td>0.827744</td>\n",
       "      <td>0.894367</td>\n",
       "    </tr>\n",
       "    <tr>\n",
       "      <th>3</th>\n",
       "      <td>LR (C=10)</td>\n",
       "      <td>12</td>\n",
       "      <td>['age', 'sex', 'cp', 'trestbps', 'fbs', 'reste...</td>\n",
       "      <td>0.839606</td>\n",
       "      <td>0.861401</td>\n",
       "      <td>0.784249</td>\n",
       "      <td>0.817432</td>\n",
       "      <td>0.896432</td>\n",
       "    </tr>\n",
       "  </tbody>\n",
       "</table>\n",
       "</div>"
      ],
      "text/plain": [
       "  Classification_Method  #Features  \\\n",
       "0             LR (C=10)          9   \n",
       "1             LR (C=10)         10   \n",
       "2             LR (C=10)         11   \n",
       "3             LR (C=10)         12   \n",
       "\n",
       "                                      Feature_Subset  accuracy precision  \\\n",
       "0  ['sex', 'cp', 'fbs', 'restecg', 'exang', 'oldp...  0.840753  0.848163   \n",
       "1  ['sex', 'cp', 'fbs', 'restecg', 'thalach', 'ex...  0.841935  0.855239   \n",
       "2  ['age', 'sex', 'cp', 'fbs', 'restecg', 'thalac...  0.847312  0.863826   \n",
       "3  ['age', 'sex', 'cp', 'trestbps', 'fbs', 'reste...  0.839606  0.861401   \n",
       "\n",
       "     recall        f1   roc_auc  \n",
       "0  0.801099  0.821437  0.897775  \n",
       "1  0.798718  0.822366  0.897553  \n",
       "2  0.801099  0.827744  0.894367  \n",
       "3  0.784249  0.817432  0.896432  "
      ]
     },
     "execution_count": 305,
     "metadata": {},
     "output_type": "execute_result"
    }
   ],
   "source": [
    "Scores_RFE_C10"
   ]
  },
  {
   "cell_type": "markdown",
   "metadata": {},
   "source": [
    "## LR with RFE on Normalized Data "
   ]
  },
  {
   "cell_type": "markdown",
   "metadata": {},
   "source": [
    "### LR Default on Normalized Data"
   ]
  },
  {
   "cell_type": "code",
   "execution_count": 346,
   "metadata": {},
   "outputs": [
    {
     "data": {
      "text/html": [
       "<div>\n",
       "<style scoped>\n",
       "    .dataframe tbody tr th:only-of-type {\n",
       "        vertical-align: middle;\n",
       "    }\n",
       "\n",
       "    .dataframe tbody tr th {\n",
       "        vertical-align: top;\n",
       "    }\n",
       "\n",
       "    .dataframe thead th {\n",
       "        text-align: right;\n",
       "    }\n",
       "</style>\n",
       "<table border=\"1\" class=\"dataframe\">\n",
       "  <thead>\n",
       "    <tr style=\"text-align: right;\">\n",
       "      <th></th>\n",
       "      <th>Classification_Method</th>\n",
       "      <th>#Features</th>\n",
       "      <th>Feature_Subset</th>\n",
       "      <th>accuracy</th>\n",
       "      <th>precision</th>\n",
       "      <th>recall</th>\n",
       "      <th>f1</th>\n",
       "      <th>roc_auc</th>\n",
       "    </tr>\n",
       "  </thead>\n",
       "  <tbody>\n",
       "    <tr>\n",
       "      <th>0</th>\n",
       "      <td>LR</td>\n",
       "      <td>9</td>\n",
       "      <td>NaN</td>\n",
       "      <td>NaN</td>\n",
       "      <td>NaN</td>\n",
       "      <td>NaN</td>\n",
       "      <td>NaN</td>\n",
       "      <td>NaN</td>\n",
       "    </tr>\n",
       "    <tr>\n",
       "      <th>1</th>\n",
       "      <td>LR</td>\n",
       "      <td>10</td>\n",
       "      <td>NaN</td>\n",
       "      <td>NaN</td>\n",
       "      <td>NaN</td>\n",
       "      <td>NaN</td>\n",
       "      <td>NaN</td>\n",
       "      <td>NaN</td>\n",
       "    </tr>\n",
       "    <tr>\n",
       "      <th>2</th>\n",
       "      <td>LR</td>\n",
       "      <td>11</td>\n",
       "      <td>NaN</td>\n",
       "      <td>NaN</td>\n",
       "      <td>NaN</td>\n",
       "      <td>NaN</td>\n",
       "      <td>NaN</td>\n",
       "      <td>NaN</td>\n",
       "    </tr>\n",
       "    <tr>\n",
       "      <th>3</th>\n",
       "      <td>LR</td>\n",
       "      <td>12</td>\n",
       "      <td>NaN</td>\n",
       "      <td>NaN</td>\n",
       "      <td>NaN</td>\n",
       "      <td>NaN</td>\n",
       "      <td>NaN</td>\n",
       "      <td>NaN</td>\n",
       "    </tr>\n",
       "  </tbody>\n",
       "</table>\n",
       "</div>"
      ],
      "text/plain": [
       "  Classification_Method  #Features Feature_Subset accuracy precision recall  \\\n",
       "0                    LR          9            NaN      NaN       NaN    NaN   \n",
       "1                    LR         10            NaN      NaN       NaN    NaN   \n",
       "2                    LR         11            NaN      NaN       NaN    NaN   \n",
       "3                    LR         12            NaN      NaN       NaN    NaN   \n",
       "\n",
       "    f1 roc_auc  \n",
       "0  NaN     NaN  \n",
       "1  NaN     NaN  \n",
       "2  NaN     NaN  \n",
       "3  NaN     NaN  "
      ]
     },
     "execution_count": 346,
     "metadata": {},
     "output_type": "execute_result"
    }
   ],
   "source": [
    "Scores_RFE_norm = pd.DataFrame(columns = ['Classification_Method','#Features','Feature_Subset', 'accuracy','precision','recall','f1','roc_auc'])\n",
    "Scores_RFE_norm['#Features'] = [9,10,11,12]\n",
    "Scores_RFE_norm['Classification_Method'] = 'LR'\n",
    "Scores_RFE_norm"
   ]
  },
  {
   "cell_type": "code",
   "execution_count": 367,
   "metadata": {},
   "outputs": [],
   "source": [
    "# X_norm\n",
    "\n",
    "def apply_RFE_norm(n,measure):\n",
    "\n",
    "    subset_RFE = []\n",
    "\n",
    "    # define RFE\n",
    "    rfe = RFE(estimator = LogisticRegression(), n_features_to_select = n)\n",
    "\n",
    "    # fit RFE\n",
    "    rfe.fit(X_norm, y)\n",
    "\n",
    "    # summarize all features\n",
    "\n",
    "    for i in range(X_norm.shape[1]):\n",
    "        if rfe.ranking_[i] == 1 :\n",
    "#             print(f'Column: {X.columns[i]}, Selected={rfe.support_[i]}, Rank: {rfe.ranking_[i]}')\n",
    "            subset_RFE.append(X_norm.columns[i])\n",
    "            \n",
    "    #         subset_RFE_9\n",
    "\n",
    "            X_RFE = X_norm[subset_RFE]\n",
    "\n",
    "    #         X_RFE_9\n",
    "#     print(subset_RFE)\n",
    "    Scores_RFE_norm_C100.loc[(Scores_RFE_norm_C100['#Features'] == n),measure] = classification(X_data=X_RFE, cls_name=LogisticRegression(C=100), scoring_method=measure)\n",
    "#     Scores_RFE_norm_C100.loc[(Scores_RFE_norm_C100['#Features'] == n),\"Feature_Subset\"] = str(subset_RFE)\n",
    "    #     Scores_RFE"
   ]
  },
  {
   "cell_type": "code",
   "execution_count": 368,
   "metadata": {},
   "outputs": [
    {
     "data": {
      "text/plain": [
       "[None, None, None, None]"
      ]
     },
     "execution_count": 368,
     "metadata": {},
     "output_type": "execute_result"
    }
   ],
   "source": [
    "# list(map(apply_RFE_norm, [9,10,11,12], ['accuracy','accuracy','accuracy','accuracy']))\n",
    "list(map(apply_RFE_norm, [9,10,11,12], ['precision','precision','precision','precision']))\n",
    "list(map(apply_RFE_norm, [9,10,11,12], ['recall','recall','recall','recall']))\n",
    "list(map(apply_RFE_norm, [9,10,11,12], ['f1','f1','f1','f1']))\n",
    "list(map(apply_RFE_norm, [9,10,11,12], ['roc_auc','roc_auc','roc_auc','roc_auc']))"
   ]
  },
  {
   "cell_type": "code",
   "execution_count": 352,
   "metadata": {},
   "outputs": [
    {
     "data": {
      "text/html": [
       "<div>\n",
       "<style scoped>\n",
       "    .dataframe tbody tr th:only-of-type {\n",
       "        vertical-align: middle;\n",
       "    }\n",
       "\n",
       "    .dataframe tbody tr th {\n",
       "        vertical-align: top;\n",
       "    }\n",
       "\n",
       "    .dataframe thead th {\n",
       "        text-align: right;\n",
       "    }\n",
       "</style>\n",
       "<table border=\"1\" class=\"dataframe\">\n",
       "  <thead>\n",
       "    <tr style=\"text-align: right;\">\n",
       "      <th></th>\n",
       "      <th>Classification_Method</th>\n",
       "      <th>#Features</th>\n",
       "      <th>Feature_Subset</th>\n",
       "      <th>accuracy</th>\n",
       "      <th>precision</th>\n",
       "      <th>recall</th>\n",
       "      <th>f1</th>\n",
       "      <th>roc_auc</th>\n",
       "    </tr>\n",
       "  </thead>\n",
       "  <tbody>\n",
       "    <tr>\n",
       "      <th>0</th>\n",
       "      <td>LR</td>\n",
       "      <td>9</td>\n",
       "      <td>['sex', 'cp', 'trestbps', 'restecg', 'thalach'...</td>\n",
       "      <td>0.838566</td>\n",
       "      <td>0.855696</td>\n",
       "      <td>0.789194</td>\n",
       "      <td>0.816807</td>\n",
       "      <td>0.898611</td>\n",
       "    </tr>\n",
       "    <tr>\n",
       "      <th>1</th>\n",
       "      <td>LR</td>\n",
       "      <td>10</td>\n",
       "      <td>['sex', 'cp', 'trestbps', 'restecg', 'thalach'...</td>\n",
       "      <td>0.832975</td>\n",
       "      <td>0.848384</td>\n",
       "      <td>0.782051</td>\n",
       "      <td>0.809841</td>\n",
       "      <td>0.897045</td>\n",
       "    </tr>\n",
       "    <tr>\n",
       "      <th>2</th>\n",
       "      <td>LR</td>\n",
       "      <td>11</td>\n",
       "      <td>['sex', 'cp', 'trestbps', 'fbs', 'restecg', 't...</td>\n",
       "      <td>0.834086</td>\n",
       "      <td>0.844098</td>\n",
       "      <td>0.789194</td>\n",
       "      <td>0.812587</td>\n",
       "      <td>0.898694</td>\n",
       "    </tr>\n",
       "    <tr>\n",
       "      <th>3</th>\n",
       "      <td>LR</td>\n",
       "      <td>12</td>\n",
       "      <td>['sex', 'cp', 'trestbps', 'chol', 'fbs', 'rest...</td>\n",
       "      <td>0.834158</td>\n",
       "      <td>0.84359</td>\n",
       "      <td>0.791575</td>\n",
       "      <td>0.813259</td>\n",
       "      <td>0.89948</td>\n",
       "    </tr>\n",
       "  </tbody>\n",
       "</table>\n",
       "</div>"
      ],
      "text/plain": [
       "  Classification_Method  #Features  \\\n",
       "0                    LR          9   \n",
       "1                    LR         10   \n",
       "2                    LR         11   \n",
       "3                    LR         12   \n",
       "\n",
       "                                      Feature_Subset  accuracy precision  \\\n",
       "0  ['sex', 'cp', 'trestbps', 'restecg', 'thalach'...  0.838566  0.855696   \n",
       "1  ['sex', 'cp', 'trestbps', 'restecg', 'thalach'...  0.832975  0.848384   \n",
       "2  ['sex', 'cp', 'trestbps', 'fbs', 'restecg', 't...  0.834086  0.844098   \n",
       "3  ['sex', 'cp', 'trestbps', 'chol', 'fbs', 'rest...  0.834158   0.84359   \n",
       "\n",
       "     recall        f1   roc_auc  \n",
       "0  0.789194  0.816807  0.898611  \n",
       "1  0.782051  0.809841  0.897045  \n",
       "2  0.789194  0.812587  0.898694  \n",
       "3  0.791575  0.813259   0.89948  "
      ]
     },
     "execution_count": 352,
     "metadata": {},
     "output_type": "execute_result"
    }
   ],
   "source": [
    "Scores_RFE_norm"
   ]
  },
  {
   "cell_type": "markdown",
   "metadata": {},
   "source": [
    "### LR (C=0.01) with RFE on Normalized Data"
   ]
  },
  {
   "cell_type": "markdown",
   "metadata": {},
   "source": [
    "# Best Score Till Now"
   ]
  },
  {
   "cell_type": "code",
   "execution_count": 337,
   "metadata": {},
   "outputs": [],
   "source": [
    "Scores_RFE_norm_C01 = pd.DataFrame(columns = ['Classification_Method','#Features','Feature_Subset', 'accuracy','precision','recall','f1','roc_auc'])\n",
    "Scores_RFE_norm_C01['#Features'] = [9,10,11,12]\n",
    "Scores_RFE_norm_C01['Classification_Method'] = 'LR (C=0.01)'"
   ]
  },
  {
   "cell_type": "code",
   "execution_count": 345,
   "metadata": {},
   "outputs": [
    {
     "data": {
      "text/html": [
       "<div>\n",
       "<style scoped>\n",
       "    .dataframe tbody tr th:only-of-type {\n",
       "        vertical-align: middle;\n",
       "    }\n",
       "\n",
       "    .dataframe tbody tr th {\n",
       "        vertical-align: top;\n",
       "    }\n",
       "\n",
       "    .dataframe thead th {\n",
       "        text-align: right;\n",
       "    }\n",
       "</style>\n",
       "<table border=\"1\" class=\"dataframe\">\n",
       "  <thead>\n",
       "    <tr style=\"text-align: right;\">\n",
       "      <th></th>\n",
       "      <th>Classification_Method</th>\n",
       "      <th>#Features</th>\n",
       "      <th>Feature_Subset</th>\n",
       "      <th>accuracy</th>\n",
       "      <th>precision</th>\n",
       "      <th>recall</th>\n",
       "      <th>f1</th>\n",
       "      <th>roc_auc</th>\n",
       "    </tr>\n",
       "  </thead>\n",
       "  <tbody>\n",
       "    <tr>\n",
       "      <th>0</th>\n",
       "      <td>LR (C=0.01)</td>\n",
       "      <td>9</td>\n",
       "      <td>['sex', 'cp', 'trestbps', 'restecg', 'thalach'...</td>\n",
       "      <td>0.840681</td>\n",
       "      <td>0.888172</td>\n",
       "      <td>0.753114</td>\n",
       "      <td>0.810303</td>\n",
       "      <td>0.906589</td>\n",
       "    </tr>\n",
       "    <tr>\n",
       "      <th>1</th>\n",
       "      <td>LR (C=0.01)</td>\n",
       "      <td>10</td>\n",
       "      <td>['sex', 'cp', 'trestbps', 'restecg', 'thalach'...</td>\n",
       "      <td>0.849427</td>\n",
       "      <td>0.897762</td>\n",
       "      <td>0.765385</td>\n",
       "      <td>0.8215</td>\n",
       "      <td>0.906946</td>\n",
       "    </tr>\n",
       "    <tr>\n",
       "      <th>2</th>\n",
       "      <td>LR (C=0.01)</td>\n",
       "      <td>11</td>\n",
       "      <td>['sex', 'cp', 'trestbps', 'fbs', 'restecg', 't...</td>\n",
       "      <td>0.852724</td>\n",
       "      <td>0.902032</td>\n",
       "      <td>0.767766</td>\n",
       "      <td>0.825002</td>\n",
       "      <td>0.906358</td>\n",
       "    </tr>\n",
       "    <tr>\n",
       "      <th>3</th>\n",
       "      <td>LR (C=0.01)</td>\n",
       "      <td>12</td>\n",
       "      <td>['sex', 'cp', 'trestbps', 'chol', 'fbs', 'rest...</td>\n",
       "      <td>0.850502</td>\n",
       "      <td>0.896224</td>\n",
       "      <td>0.767766</td>\n",
       "      <td>0.822669</td>\n",
       "      <td>0.907614</td>\n",
       "    </tr>\n",
       "  </tbody>\n",
       "</table>\n",
       "</div>"
      ],
      "text/plain": [
       "  Classification_Method  #Features  \\\n",
       "0           LR (C=0.01)          9   \n",
       "1           LR (C=0.01)         10   \n",
       "2           LR (C=0.01)         11   \n",
       "3           LR (C=0.01)         12   \n",
       "\n",
       "                                      Feature_Subset  accuracy precision  \\\n",
       "0  ['sex', 'cp', 'trestbps', 'restecg', 'thalach'...  0.840681  0.888172   \n",
       "1  ['sex', 'cp', 'trestbps', 'restecg', 'thalach'...  0.849427  0.897762   \n",
       "2  ['sex', 'cp', 'trestbps', 'fbs', 'restecg', 't...  0.852724  0.902032   \n",
       "3  ['sex', 'cp', 'trestbps', 'chol', 'fbs', 'rest...  0.850502  0.896224   \n",
       "\n",
       "     recall        f1   roc_auc  \n",
       "0  0.753114  0.810303  0.906589  \n",
       "1  0.765385    0.8215  0.906946  \n",
       "2  0.767766  0.825002  0.906358  \n",
       "3  0.767766  0.822669  0.907614  "
      ]
     },
     "execution_count": 345,
     "metadata": {},
     "output_type": "execute_result"
    }
   ],
   "source": [
    "Scores_RFE_norm_C01"
   ]
  },
  {
   "cell_type": "code",
   "execution_count": 356,
   "metadata": {},
   "outputs": [
    {
     "data": {
      "text/plain": [
       "0.8407526881720429"
      ]
     },
     "execution_count": 356,
     "metadata": {},
     "output_type": "execute_result"
    }
   ],
   "source": [
    "temp = ['sex', 'cp', 'fbs', 'restecg', 'exang', 'oldpeak', 'slope', 'ca', 'thal']\n",
    "classification(X_data=X[temp], cls_name=LogisticRegression(C=10), scoring_method='accuracy')"
   ]
  },
  {
   "cell_type": "markdown",
   "metadata": {},
   "source": [
    "### LR (C=10) with RFE on Normalized Data"
   ]
  },
  {
   "cell_type": "code",
   "execution_count": 357,
   "metadata": {},
   "outputs": [],
   "source": [
    "Scores_RFE_norm_C10 = pd.DataFrame(columns = ['Classification_Method','#Features','Feature_Subset', 'accuracy','precision','recall','f1','roc_auc'])\n",
    "Scores_RFE_norm_C10['#Features'] = [9,10,11,12]\n",
    "Scores_RFE_norm_C10['Classification_Method'] = 'LR (C=10)'"
   ]
  },
  {
   "cell_type": "code",
   "execution_count": 363,
   "metadata": {},
   "outputs": [
    {
     "data": {
      "text/html": [
       "<div>\n",
       "<style scoped>\n",
       "    .dataframe tbody tr th:only-of-type {\n",
       "        vertical-align: middle;\n",
       "    }\n",
       "\n",
       "    .dataframe tbody tr th {\n",
       "        vertical-align: top;\n",
       "    }\n",
       "\n",
       "    .dataframe thead th {\n",
       "        text-align: right;\n",
       "    }\n",
       "</style>\n",
       "<table border=\"1\" class=\"dataframe\">\n",
       "  <thead>\n",
       "    <tr style=\"text-align: right;\">\n",
       "      <th></th>\n",
       "      <th>Classification_Method</th>\n",
       "      <th>#Features</th>\n",
       "      <th>Feature_Subset</th>\n",
       "      <th>accuracy</th>\n",
       "      <th>precision</th>\n",
       "      <th>recall</th>\n",
       "      <th>f1</th>\n",
       "      <th>roc_auc</th>\n",
       "    </tr>\n",
       "  </thead>\n",
       "  <tbody>\n",
       "    <tr>\n",
       "      <th>0</th>\n",
       "      <td>LR (C=10)</td>\n",
       "      <td>9</td>\n",
       "      <td>['sex', 'cp', 'trestbps', 'restecg', 'thalach'...</td>\n",
       "      <td>0.838566</td>\n",
       "      <td>0.855696</td>\n",
       "      <td>0.789194</td>\n",
       "      <td>0.816807</td>\n",
       "      <td>0.897453</td>\n",
       "    </tr>\n",
       "    <tr>\n",
       "      <th>1</th>\n",
       "      <td>LR (C=10)</td>\n",
       "      <td>10</td>\n",
       "      <td>['sex', 'cp', 'trestbps', 'restecg', 'thalach'...</td>\n",
       "      <td>0.831864</td>\n",
       "      <td>0.843469</td>\n",
       "      <td>0.784432</td>\n",
       "      <td>0.808915</td>\n",
       "      <td>0.897181</td>\n",
       "    </tr>\n",
       "    <tr>\n",
       "      <th>2</th>\n",
       "      <td>LR (C=10)</td>\n",
       "      <td>11</td>\n",
       "      <td>['sex', 'cp', 'trestbps', 'fbs', 'restecg', 't...</td>\n",
       "      <td>0.834086</td>\n",
       "      <td>0.844098</td>\n",
       "      <td>0.789194</td>\n",
       "      <td>0.812587</td>\n",
       "      <td>0.897652</td>\n",
       "    </tr>\n",
       "    <tr>\n",
       "      <th>3</th>\n",
       "      <td>LR (C=10)</td>\n",
       "      <td>12</td>\n",
       "      <td>['sex', 'cp', 'trestbps', 'chol', 'fbs', 'rest...</td>\n",
       "      <td>0.835233</td>\n",
       "      <td>0.841789</td>\n",
       "      <td>0.796337</td>\n",
       "      <td>0.815043</td>\n",
       "      <td>0.898152</td>\n",
       "    </tr>\n",
       "  </tbody>\n",
       "</table>\n",
       "</div>"
      ],
      "text/plain": [
       "  Classification_Method  #Features  \\\n",
       "0             LR (C=10)          9   \n",
       "1             LR (C=10)         10   \n",
       "2             LR (C=10)         11   \n",
       "3             LR (C=10)         12   \n",
       "\n",
       "                                      Feature_Subset  accuracy precision  \\\n",
       "0  ['sex', 'cp', 'trestbps', 'restecg', 'thalach'...  0.838566  0.855696   \n",
       "1  ['sex', 'cp', 'trestbps', 'restecg', 'thalach'...  0.831864  0.843469   \n",
       "2  ['sex', 'cp', 'trestbps', 'fbs', 'restecg', 't...  0.834086  0.844098   \n",
       "3  ['sex', 'cp', 'trestbps', 'chol', 'fbs', 'rest...  0.835233  0.841789   \n",
       "\n",
       "     recall        f1   roc_auc  \n",
       "0  0.789194  0.816807  0.897453  \n",
       "1  0.784432  0.808915  0.897181  \n",
       "2  0.789194  0.812587  0.897652  \n",
       "3  0.796337  0.815043  0.898152  "
      ]
     },
     "execution_count": 363,
     "metadata": {},
     "output_type": "execute_result"
    }
   ],
   "source": [
    "Scores_RFE_norm_C10"
   ]
  },
  {
   "cell_type": "markdown",
   "metadata": {},
   "source": [
    "### LR (C=100) with RFE on Normalized Data"
   ]
  },
  {
   "cell_type": "code",
   "execution_count": 364,
   "metadata": {},
   "outputs": [],
   "source": [
    "Scores_RFE_norm_C100 = pd.DataFrame(columns = ['Classification_Method','#Features','Feature_Subset', 'accuracy','precision','recall','f1','roc_auc'])\n",
    "Scores_RFE_norm_C100['#Features'] = [9,10,11,12]\n",
    "Scores_RFE_norm_C100['Classification_Method'] = 'LR (C=100)'"
   ]
  },
  {
   "cell_type": "code",
   "execution_count": 369,
   "metadata": {},
   "outputs": [
    {
     "data": {
      "text/html": [
       "<div>\n",
       "<style scoped>\n",
       "    .dataframe tbody tr th:only-of-type {\n",
       "        vertical-align: middle;\n",
       "    }\n",
       "\n",
       "    .dataframe tbody tr th {\n",
       "        vertical-align: top;\n",
       "    }\n",
       "\n",
       "    .dataframe thead th {\n",
       "        text-align: right;\n",
       "    }\n",
       "</style>\n",
       "<table border=\"1\" class=\"dataframe\">\n",
       "  <thead>\n",
       "    <tr style=\"text-align: right;\">\n",
       "      <th></th>\n",
       "      <th>Classification_Method</th>\n",
       "      <th>#Features</th>\n",
       "      <th>Feature_Subset</th>\n",
       "      <th>accuracy</th>\n",
       "      <th>precision</th>\n",
       "      <th>recall</th>\n",
       "      <th>f1</th>\n",
       "      <th>roc_auc</th>\n",
       "    </tr>\n",
       "  </thead>\n",
       "  <tbody>\n",
       "    <tr>\n",
       "      <th>0</th>\n",
       "      <td>LR (C=100)</td>\n",
       "      <td>9</td>\n",
       "      <td>['sex', 'cp', 'trestbps', 'restecg', 'thalach'...</td>\n",
       "      <td>0.837491</td>\n",
       "      <td>0.854225</td>\n",
       "      <td>0.789194</td>\n",
       "      <td>0.815947</td>\n",
       "      <td>0.897305</td>\n",
       "    </tr>\n",
       "    <tr>\n",
       "      <th>1</th>\n",
       "      <td>LR (C=100)</td>\n",
       "      <td>10</td>\n",
       "      <td>['sex', 'cp', 'trestbps', 'restecg', 'thalach'...</td>\n",
       "      <td>0.831864</td>\n",
       "      <td>0.843469</td>\n",
       "      <td>0.784432</td>\n",
       "      <td>0.808915</td>\n",
       "      <td>0.897181</td>\n",
       "    </tr>\n",
       "    <tr>\n",
       "      <th>2</th>\n",
       "      <td>LR (C=100)</td>\n",
       "      <td>11</td>\n",
       "      <td>['sex', 'cp', 'trestbps', 'fbs', 'restecg', 't...</td>\n",
       "      <td>0.835197</td>\n",
       "      <td>0.844603</td>\n",
       "      <td>0.791575</td>\n",
       "      <td>0.814228</td>\n",
       "      <td>0.897652</td>\n",
       "    </tr>\n",
       "    <tr>\n",
       "      <th>3</th>\n",
       "      <td>LR (C=100)</td>\n",
       "      <td>12</td>\n",
       "      <td>['sex', 'cp', 'trestbps', 'chol', 'fbs', 'rest...</td>\n",
       "      <td>0.835233</td>\n",
       "      <td>0.841789</td>\n",
       "      <td>0.796337</td>\n",
       "      <td>0.815043</td>\n",
       "      <td>0.8983</td>\n",
       "    </tr>\n",
       "  </tbody>\n",
       "</table>\n",
       "</div>"
      ],
      "text/plain": [
       "  Classification_Method  #Features  \\\n",
       "0            LR (C=100)          9   \n",
       "1            LR (C=100)         10   \n",
       "2            LR (C=100)         11   \n",
       "3            LR (C=100)         12   \n",
       "\n",
       "                                      Feature_Subset  accuracy precision  \\\n",
       "0  ['sex', 'cp', 'trestbps', 'restecg', 'thalach'...  0.837491  0.854225   \n",
       "1  ['sex', 'cp', 'trestbps', 'restecg', 'thalach'...  0.831864  0.843469   \n",
       "2  ['sex', 'cp', 'trestbps', 'fbs', 'restecg', 't...  0.835197  0.844603   \n",
       "3  ['sex', 'cp', 'trestbps', 'chol', 'fbs', 'rest...  0.835233  0.841789   \n",
       "\n",
       "     recall        f1   roc_auc  \n",
       "0  0.789194  0.815947  0.897305  \n",
       "1  0.784432  0.808915  0.897181  \n",
       "2  0.791575  0.814228  0.897652  \n",
       "3  0.796337  0.815043    0.8983  "
      ]
     },
     "execution_count": 369,
     "metadata": {},
     "output_type": "execute_result"
    }
   ],
   "source": [
    "Scores_RFE_norm_C100"
   ]
  },
  {
   "cell_type": "markdown",
   "metadata": {},
   "source": [
    "# RFE CV"
   ]
  },
  {
   "cell_type": "code",
   "execution_count": 370,
   "metadata": {},
   "outputs": [],
   "source": [
    "def apply_RFECV(n,measure):\n",
    "\n",
    "    subset_RFECV = []\n",
    "\n",
    "    # define RFE\n",
    "    rfecv = RFECV(estimator = LogisticRegression(), n_features_to_select = n, CV = 10)\n",
    "\n",
    "    # fit RFE\n",
    "    rfecv.fit(X, y)\n",
    "\n",
    "    # summarize all features\n",
    "\n",
    "    for i in range(X.shape[1]):\n",
    "        if rfecv.ranking_[i] == 1 :\n",
    "#             print(f'Column: {X.columns[i]}, Selected={rfe.support_[i]}, Rank: {rfe.ranking_[i]}')\n",
    "            subset_RFECV.append(X.columns[i])\n",
    "            \n",
    "    #         subset_RFE_9\n",
    "\n",
    "            X_RFECV = X[subset_RFECV]\n",
    "\n",
    "    #         X_RFE_9\n",
    "#     print(subset_RFE)\n",
    "    Scores_RFECV.loc[(Scores_RFECV['#Features'] == n),measure] = classification(X_data=X_RFECV, cls_name=LogisticRegression(), scoring_method=measure)\n",
    "    Scores_RFECV.loc[(Scores_RFECV['#Features'] == n),\"Feature_Subset\"] = str(subset_RFECV)\n",
    "    #     Scores_RFE"
   ]
  }
 ],
 "metadata": {
  "kernelspec": {
   "display_name": "Python 3",
   "language": "python",
   "name": "python3"
  },
  "language_info": {
   "codemirror_mode": {
    "name": "ipython",
    "version": 3
   },
   "file_extension": ".py",
   "mimetype": "text/x-python",
   "name": "python",
   "nbconvert_exporter": "python",
   "pygments_lexer": "ipython3",
   "version": "3.8.2"
  }
 },
 "nbformat": 4,
 "nbformat_minor": 4
}
